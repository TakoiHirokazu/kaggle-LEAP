{
 "cells": [
  {
   "cell_type": "code",
   "execution_count": 1,
   "id": "fab4c1c1",
   "metadata": {},
   "outputs": [
    {
     "name": "stderr",
     "output_type": "stream",
     "text": [
      "/usr/local/lib/python3.10/dist-packages/tqdm/auto.py:21: TqdmWarning: IProgress not found. Please update jupyter and ipywidgets. See https://ipywidgets.readthedocs.io/en/stable/user_install.html\n",
      "  from .autonotebook import tqdm as notebook_tqdm\n"
     ]
    }
   ],
   "source": [
    "import glob\n",
    "import json\n",
    "import os\n",
    "import shutil\n",
    "import sys\n",
    "import time\n",
    "from glob import glob\n",
    "from pathlib import Path\n",
    "from typing import Literal\n",
    "\n",
    "import numpy as np\n",
    "import xarray as xr\n",
    "from huggingface_hub import snapshot_download"
   ]
  },
  {
   "cell_type": "code",
   "execution_count": null,
   "id": "eeb0eb55",
   "metadata": {},
   "outputs": [],
   "source": [
    "for i in range(1,13):\n",
    "    print(i)\n",
    "    if i < 10:\n",
    "        month = \"0\" + str(i)\n",
    "    else:\n",
    "        month = str(i)\n",
    "    snapshot_download(\n",
    "        repo_id=\"LEAP/ClimSim_low-res\",\n",
    "        allow_patterns=f\"train/0005-{month}/*0005-*-*-*.nc\",\n",
    "        cache_dir=None,\n",
    "        local_dir=\"../storage/leap/all_data\",\n",
    "        repo_type=\"dataset\",\n",
    "    )"
   ]
  }
 ],
 "metadata": {
  "kernelspec": {
   "display_name": "Python 3 (ipykernel)",
   "language": "python",
   "name": "python3"
  },
  "language_info": {
   "codemirror_mode": {
    "name": "ipython",
    "version": 3
   },
   "file_extension": ".py",
   "mimetype": "text/x-python",
   "name": "python",
   "nbconvert_exporter": "python",
   "pygments_lexer": "ipython3",
   "version": "3.10.12"
  }
 },
 "nbformat": 4,
 "nbformat_minor": 5
}

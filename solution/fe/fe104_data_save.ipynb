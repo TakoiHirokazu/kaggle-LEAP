{
 "cells": [
  {
   "cell_type": "code",
   "execution_count": 3,
   "id": "9c0754b3",
   "metadata": {},
   "outputs": [],
   "source": [
    "# =============================\n",
    "# library\n",
    "# =============================\n",
    "import pandas as pd\n",
    "import numpy as np\n",
    "from pathlib import Path\n",
    "import matplotlib.pyplot as plt\n",
    "import polars as pl\n",
    "from sklearn.preprocessing import StandardScaler"
   ]
  },
  {
   "cell_type": "code",
   "execution_count": 4,
   "id": "80c1b6ef",
   "metadata": {},
   "outputs": [],
   "source": [
    "# =============================\n",
    "# constant\n",
    "# =============================\n",
    "TEST_PATH = Path(\"../storage/leap/data/test.csv\")\n",
    "OUTPUT_DIR = Path(\"../storage/leap/output\")\n",
    "DATA_DIR = Path(\"../storage/leap/data\")"
   ]
  },
  {
   "cell_type": "code",
   "execution_count": 5,
   "id": "72ba0d87",
   "metadata": {},
   "outputs": [],
   "source": [
    "# =============================\n",
    "# settings\n",
    "# =============================\n",
    "fe = \"104\"\n",
    "fe_dir = OUTPUT_DIR / \"fe\" / f\"fe{fe}\"\n",
    "fe_dir.mkdir(parents=True, exist_ok=True)\n",
    "fe_save_dir = fe_dir / \"save\"\n",
    "fe_save_dir.mkdir(parents=True, exist_ok=True)\n",
    "TRAIN_PATH = Path(\"../storage/leap/data/train_0008/train_0008_2_concat.parquet\")"
   ]
  },
  {
   "cell_type": "code",
   "execution_count": 6,
   "id": "20e63219",
   "metadata": {},
   "outputs": [],
   "source": [
    "# =============================\n",
    "# columns\n",
    "# =============================\n",
    "state_t = [f'state_t_{i}' for i in range(60)]\n",
    "state_q0001 = [f'state_q0001_{i}' for i in range(60)]\n",
    "state_q0002 = [f'state_q0002_{i}' for i in range(60)]\n",
    "state_q0003 = [f'state_q0003_{i}' for i in range(60)]\n",
    "state_u = [f'state_u_{i}' for i in range(60)]\n",
    "state_v = [f'state_v_{i}' for i in range(60)]\n",
    "other = ['state_ps', 'pbuf_SOLIN', 'pbuf_LHFLX', 'pbuf_SHFLX',\n",
    "       'pbuf_TAUX', 'pbuf_TAUY', 'pbuf_COSZRS', 'cam_in_ALDIF', 'cam_in_ALDIR',\n",
    "       'cam_in_ASDIF', 'cam_in_ASDIR', 'cam_in_LWUP', 'cam_in_ICEFRAC',\n",
    "       'cam_in_LANDFRAC', 'cam_in_OCNFRAC', 'cam_in_SNOWHLAND']\n",
    "pbuf_ozone = [f'pbuf_ozone_{i}' for i in range(60)]\n",
    "pbuf_CH4 = [f'pbuf_CH4_{i}' for i in range(60)]\n",
    "pbuf_N2O = [f'pbuf_N2O_{i}' for i in range(60)]\n",
    "cols_list = [state_t,state_q0001,state_q0002,state_q0003,\n",
    "             state_u,state_v,pbuf_ozone,pbuf_CH4,pbuf_N2O,other]"
   ]
  },
  {
   "cell_type": "code",
   "execution_count": 7,
   "id": "8409a948",
   "metadata": {},
   "outputs": [],
   "source": [
    "# =============================\n",
    "# target\n",
    "# =============================\n",
    "ptend_t = [f'ptend_t_{i}' for i in range(60)]\n",
    "ptend_q0001 = [f'ptend_q0001_{i}' for i in range(60)]\n",
    "ptend_q0002 = [f'ptend_q0002_{i}' for i in range(60)]\n",
    "ptend_q0003 = [f'ptend_q0003_{i}' for i in range(60)]\n",
    "ptend_u = [f'ptend_u_{i}' for i in range(60)]\n",
    "ptend_v = [f'ptend_v_{i}' for i in range(60)]\n",
    "other_target= ['cam_out_NETSW', 'cam_out_FLWDS', 'cam_out_PRECSC', 'cam_out_PRECC', 'cam_out_SOLS', 'cam_out_SOLL', 'cam_out_SOLSD', 'cam_out_SOLLD']\n",
    "target_list = [ptend_t,ptend_q0001, ptend_q0002,ptend_q0003,ptend_u,ptend_v,other_target]"
   ]
  },
  {
   "cell_type": "code",
   "execution_count": 8,
   "id": "59390587",
   "metadata": {},
   "outputs": [],
   "source": [
    "# =============================\n",
    "# main\n",
    "# =============================\n",
    "df = pl.read_parquet(TRAIN_PATH)"
   ]
  },
  {
   "cell_type": "code",
   "execution_count": 9,
   "id": "feafbcb6",
   "metadata": {},
   "outputs": [],
   "source": [
    "sample = pd.read_csv(DATA_DIR / \"sample_submission.csv\")\n",
    "sample = sample.iloc[:1,:].reset_index(drop=True)\n",
    "for c in sample.columns[1:]:\n",
    "    w = sample[c].values\n",
    "    df = df.with_columns(pl.col(c) * w)"
   ]
  },
  {
   "cell_type": "code",
   "execution_count": 10,
   "id": "b2c2186c",
   "metadata": {},
   "outputs": [],
   "source": [
    "df.write_parquet(OUTPUT_DIR / \"fe\" / f\"fe{fe}\" / f\"fe{fe}_train.parquet\")"
   ]
  },
  {
   "cell_type": "code",
   "execution_count": 11,
   "id": "152002b4",
   "metadata": {},
   "outputs": [
    {
     "data": {
      "text/html": [
       "<div><style>\n",
       ".dataframe > thead > tr,\n",
       ".dataframe > tbody > tr {\n",
       "  text-align: right;\n",
       "  white-space: pre-wrap;\n",
       "}\n",
       "</style>\n",
       "<small>shape: (4_617_216, 925)</small><table border=\"1\" class=\"dataframe\"><thead><tr><th>sample_id</th><th>state_t_0</th><th>state_t_1</th><th>state_t_2</th><th>state_t_3</th><th>state_t_4</th><th>state_t_5</th><th>state_t_6</th><th>state_t_7</th><th>state_t_8</th><th>state_t_9</th><th>state_t_10</th><th>state_t_11</th><th>state_t_12</th><th>state_t_13</th><th>state_t_14</th><th>state_t_15</th><th>state_t_16</th><th>state_t_17</th><th>state_t_18</th><th>state_t_19</th><th>state_t_20</th><th>state_t_21</th><th>state_t_22</th><th>state_t_23</th><th>state_t_24</th><th>state_t_25</th><th>state_t_26</th><th>state_t_27</th><th>state_t_28</th><th>state_t_29</th><th>state_t_30</th><th>state_t_31</th><th>state_t_32</th><th>state_t_33</th><th>state_t_34</th><th>state_t_35</th><th>&hellip;</th><th>ptend_v_31</th><th>ptend_v_32</th><th>ptend_v_33</th><th>ptend_v_34</th><th>ptend_v_35</th><th>ptend_v_36</th><th>ptend_v_37</th><th>ptend_v_38</th><th>ptend_v_39</th><th>ptend_v_40</th><th>ptend_v_41</th><th>ptend_v_42</th><th>ptend_v_43</th><th>ptend_v_44</th><th>ptend_v_45</th><th>ptend_v_46</th><th>ptend_v_47</th><th>ptend_v_48</th><th>ptend_v_49</th><th>ptend_v_50</th><th>ptend_v_51</th><th>ptend_v_52</th><th>ptend_v_53</th><th>ptend_v_54</th><th>ptend_v_55</th><th>ptend_v_56</th><th>ptend_v_57</th><th>ptend_v_58</th><th>ptend_v_59</th><th>cam_out_NETSW</th><th>cam_out_FLWDS</th><th>cam_out_PRECSC</th><th>cam_out_PRECC</th><th>cam_out_SOLS</th><th>cam_out_SOLL</th><th>cam_out_SOLSD</th><th>cam_out_SOLLD</th></tr><tr><td>str</td><td>f64</td><td>f64</td><td>f64</td><td>f64</td><td>f64</td><td>f64</td><td>f64</td><td>f64</td><td>f64</td><td>f64</td><td>f64</td><td>f64</td><td>f64</td><td>f64</td><td>f64</td><td>f64</td><td>f64</td><td>f64</td><td>f64</td><td>f64</td><td>f64</td><td>f64</td><td>f64</td><td>f64</td><td>f64</td><td>f64</td><td>f64</td><td>f64</td><td>f64</td><td>f64</td><td>f64</td><td>f64</td><td>f64</td><td>f64</td><td>f64</td><td>f64</td><td>&hellip;</td><td>f64</td><td>f64</td><td>f64</td><td>f64</td><td>f64</td><td>f64</td><td>f64</td><td>f64</td><td>f64</td><td>f64</td><td>f64</td><td>f64</td><td>f64</td><td>f64</td><td>f64</td><td>f64</td><td>f64</td><td>f64</td><td>f64</td><td>f64</td><td>f64</td><td>f64</td><td>f64</td><td>f64</td><td>f64</td><td>f64</td><td>f64</td><td>f64</td><td>f64</td><td>f64</td><td>f64</td><td>f64</td><td>f64</td><td>f64</td><td>f64</td><td>f64</td><td>f64</td></tr></thead><tbody><tr><td>&quot;train_0&quot;</td><td>213.015399</td><td>222.982504</td><td>229.060155</td><td>244.718725</td><td>256.363167</td><td>264.674508</td><td>263.137177</td><td>253.361152</td><td>242.91291</td><td>235.829238</td><td>229.338916</td><td>224.513291</td><td>220.461853</td><td>216.633896</td><td>211.724516</td><td>206.362492</td><td>201.731377</td><td>197.998571</td><td>195.274716</td><td>197.218602</td><td>199.60527</td><td>204.183593</td><td>209.368983</td><td>214.901717</td><td>220.040567</td><td>224.758955</td><td>229.117382</td><td>233.126458</td><td>236.934911</td><td>240.630485</td><td>244.383587</td><td>248.090172</td><td>251.790612</td><td>255.330826</td><td>258.59554</td><td>261.492111</td><td>&hellip;</td><td>3.6847e-9</td><td>3.9531e-9</td><td>4.2460e-10</td><td>-1.7552e-10</td><td>-6.7376e-10</td><td>-1.7862e-9</td><td>-1.7459e-10</td><td>1.6805e-9</td><td>-1.0731e-9</td><td>-6.2402e-10</td><td>3.7018e-10</td><td>1.0093e-9</td><td>5.6612e-10</td><td>-5.6707e-10</td><td>-9.0547e-10</td><td>-1.7536e-10</td><td>6.5313e-10</td><td>5.8093e-10</td><td>-1.1141e-8</td><td>6.7917e-8</td><td>-5.0707e-8</td><td>-2.0211e-10</td><td>-2.1007e-9</td><td>2.9645e-8</td><td>-1.1891e-7</td><td>7.9435e-8</td><td>-2.8188e-8</td><td>-0.000001</td><td>0.000001</td><td>0.0</td><td>374.326122</td><td>0.0</td><td>0.0</td><td>0.0</td><td>0.0</td><td>0.0</td><td>0.0</td></tr><tr><td>&quot;train_1&quot;</td><td>212.928805</td><td>219.215263</td><td>226.877896</td><td>245.088931</td><td>257.724639</td><td>266.303036</td><td>265.12261</td><td>255.492992</td><td>243.913295</td><td>236.504822</td><td>230.408508</td><td>225.792889</td><td>222.184908</td><td>218.837126</td><td>215.133234</td><td>211.383674</td><td>207.935616</td><td>204.266539</td><td>198.797919</td><td>199.98863</td><td>200.957086</td><td>204.487211</td><td>208.055326</td><td>212.181648</td><td>216.142603</td><td>220.222281</td><td>224.329648</td><td>228.490616</td><td>232.692928</td><td>236.763945</td><td>240.887229</td><td>244.892055</td><td>248.500952</td><td>252.02758</td><td>255.302474</td><td>258.18134</td><td>&hellip;</td><td>-0.000001</td><td>-8.7064e-7</td><td>5.0300e-7</td><td>-1.1449e-7</td><td>-1.5131e-7</td><td>-4.4983e-7</td><td>7.0812e-8</td><td>3.8577e-7</td><td>-2.3506e-7</td><td>-4.0316e-7</td><td>1.8155e-7</td><td>-4.0392e-7</td><td>1.0877e-7</td><td>-0.000001</td><td>-5.8285e-7</td><td>0.000001</td><td>-6.8549e-8</td><td>-0.000003</td><td>-9.0245e-7</td><td>0.000003</td><td>0.000002</td><td>1.0867e-7</td><td>-2.6583e-7</td><td>-8.2204e-7</td><td>-0.000003</td><td>-0.000006</td><td>-0.000012</td><td>0.000023</td><td>0.000001</td><td>0.0</td><td>368.961544</td><td>0.0</td><td>2.4889e-9</td><td>0.0</td><td>0.0</td><td>0.0</td><td>0.0</td></tr><tr><td>&quot;train_2&quot;</td><td>213.879147</td><td>230.127471</td><td>232.440488</td><td>243.798987</td><td>253.231005</td><td>259.56906</td><td>257.504798</td><td>249.007208</td><td>238.955028</td><td>232.94693</td><td>227.048228</td><td>222.125972</td><td>216.73301</td><td>212.257303</td><td>207.047447</td><td>199.347922</td><td>191.294047</td><td>188.459846</td><td>190.43572</td><td>192.595264</td><td>196.177299</td><td>202.616964</td><td>209.761787</td><td>216.48727</td><td>222.673318</td><td>228.315575</td><td>233.576515</td><td>238.438382</td><td>242.860587</td><td>246.962451</td><td>250.877544</td><td>254.541771</td><td>258.037442</td><td>261.36587</td><td>264.301403</td><td>267.013562</td><td>&hellip;</td><td>0.000002</td><td>0.000003</td><td>8.7341e-7</td><td>0.000002</td><td>1.9450e-7</td><td>1.0955e-7</td><td>-1.1678e-7</td><td>1.7391e-7</td><td>3.2977e-7</td><td>-3.4538e-7</td><td>-8.4793e-8</td><td>0.000003</td><td>4.5718e-7</td><td>-0.000001</td><td>-0.000001</td><td>0.000001</td><td>0.000002</td><td>-5.5208e-7</td><td>4.2301e-7</td><td>0.000004</td><td>0.000005</td><td>0.000005</td><td>0.000003</td><td>0.000001</td><td>0.000001</td><td>-0.000005</td><td>-0.000016</td><td>-0.000012</td><td>0.000005</td><td>0.0</td><td>413.329358</td><td>0.0</td><td>0.0</td><td>0.0</td><td>0.0</td><td>0.0</td><td>0.0</td></tr><tr><td>&quot;train_3&quot;</td><td>212.822607</td><td>221.729062</td><td>227.381841</td><td>242.259876</td><td>253.111267</td><td>261.355935</td><td>259.292877</td><td>250.935204</td><td>240.321327</td><td>233.932932</td><td>227.653495</td><td>222.602555</td><td>217.496219</td><td>212.638499</td><td>208.435859</td><td>203.10365</td><td>196.378121</td><td>192.376704</td><td>191.04675</td><td>193.304753</td><td>196.953294</td><td>203.10148</td><td>208.852518</td><td>214.498308</td><td>219.959933</td><td>225.77976</td><td>231.449655</td><td>236.458998</td><td>240.945168</td><td>245.181245</td><td>249.125938</td><td>252.819</td><td>256.293398</td><td>259.48904</td><td>262.374707</td><td>264.938798</td><td>&hellip;</td><td>-0.000003</td><td>0.000006</td><td>0.000009</td><td>0.000002</td><td>-3.1147e-7</td><td>-2.2540e-7</td><td>-0.000002</td><td>-0.000019</td><td>-0.000027</td><td>-0.000028</td><td>-0.000015</td><td>-0.000005</td><td>0.000005</td><td>0.000006</td><td>0.000004</td><td>0.000006</td><td>0.00001</td><td>0.000011</td><td>0.000005</td><td>0.000005</td><td>0.000014</td><td>0.000027</td><td>0.000037</td><td>0.000049</td><td>0.000052</td><td>0.00004</td><td>-0.000007</td><td>-0.000038</td><td>-0.000041</td><td>0.0</td><td>417.334622</td><td>0.0</td><td>1.3297e-7</td><td>0.0</td><td>0.0</td><td>0.0</td><td>0.0</td></tr><tr><td>&quot;train_4&quot;</td><td>214.12286</td><td>219.787635</td><td>227.753731</td><td>244.986192</td><td>258.572526</td><td>266.770542</td><td>265.346858</td><td>256.232703</td><td>244.570049</td><td>236.831076</td><td>230.766214</td><td>226.369996</td><td>223.045796</td><td>220.400407</td><td>217.21911</td><td>214.564411</td><td>212.113943</td><td>210.28956</td><td>204.195758</td><td>203.362237</td><td>202.547046</td><td>204.763257</td><td>207.16086</td><td>210.213263</td><td>213.414852</td><td>216.892985</td><td>220.564116</td><td>224.648944</td><td>228.957761</td><td>233.086338</td><td>237.255039</td><td>241.247852</td><td>244.960457</td><td>248.539418</td><td>251.86142</td><td>255.032982</td><td>&hellip;</td><td>-6.0350e-7</td><td>0.000001</td><td>6.6993e-7</td><td>7.2094e-7</td><td>-5.6767e-8</td><td>3.5311e-7</td><td>-1.4315e-8</td><td>-4.7537e-7</td><td>3.4649e-8</td><td>-4.2537e-7</td><td>-2.2724e-7</td><td>-9.6077e-7</td><td>-2.5037e-7</td><td>0.000001</td><td>-0.000002</td><td>-0.000003</td><td>7.1734e-7</td><td>0.000001</td><td>0.000002</td><td>0.000001</td><td>-4.5389e-8</td><td>7.1304e-7</td><td>7.3742e-7</td><td>-4.4891e-7</td><td>-6.9074e-7</td><td>-6.3748e-7</td><td>6.2717e-7</td><td>0.000022</td><td>-0.000018</td><td>0.0</td><td>365.823816</td><td>0.0</td><td>0.0</td><td>0.0</td><td>0.0</td><td>0.0</td><td>0.0</td></tr><tr><td>&hellip;</td><td>&hellip;</td><td>&hellip;</td><td>&hellip;</td><td>&hellip;</td><td>&hellip;</td><td>&hellip;</td><td>&hellip;</td><td>&hellip;</td><td>&hellip;</td><td>&hellip;</td><td>&hellip;</td><td>&hellip;</td><td>&hellip;</td><td>&hellip;</td><td>&hellip;</td><td>&hellip;</td><td>&hellip;</td><td>&hellip;</td><td>&hellip;</td><td>&hellip;</td><td>&hellip;</td><td>&hellip;</td><td>&hellip;</td><td>&hellip;</td><td>&hellip;</td><td>&hellip;</td><td>&hellip;</td><td>&hellip;</td><td>&hellip;</td><td>&hellip;</td><td>&hellip;</td><td>&hellip;</td><td>&hellip;</td><td>&hellip;</td><td>&hellip;</td><td>&hellip;</td><td>&hellip;</td><td>&hellip;</td><td>&hellip;</td><td>&hellip;</td><td>&hellip;</td><td>&hellip;</td><td>&hellip;</td><td>&hellip;</td><td>&hellip;</td><td>&hellip;</td><td>&hellip;</td><td>&hellip;</td><td>&hellip;</td><td>&hellip;</td><td>&hellip;</td><td>&hellip;</td><td>&hellip;</td><td>&hellip;</td><td>&hellip;</td><td>&hellip;</td><td>&hellip;</td><td>&hellip;</td><td>&hellip;</td><td>&hellip;</td><td>&hellip;</td><td>&hellip;</td><td>&hellip;</td><td>&hellip;</td><td>&hellip;</td><td>&hellip;</td><td>&hellip;</td><td>&hellip;</td><td>&hellip;</td><td>&hellip;</td><td>&hellip;</td><td>&hellip;</td><td>&hellip;</td><td>&hellip;</td></tr><tr><td>&quot;train_856699&quot;</td><td>221.187103</td><td>226.352975</td><td>236.535549</td><td>244.926666</td><td>248.61201</td><td>246.259331</td><td>238.50307</td><td>232.078002</td><td>226.674986</td><td>223.381948</td><td>221.424677</td><td>220.095198</td><td>219.245587</td><td>218.970121</td><td>218.770346</td><td>218.502665</td><td>217.947594</td><td>217.98634</td><td>217.170769</td><td>216.088385</td><td>214.805092</td><td>214.35364</td><td>214.851799</td><td>216.221468</td><td>217.880209</td><td>219.516177</td><td>221.325253</td><td>223.446962</td><td>225.77996</td><td>228.201563</td><td>230.711562</td><td>233.245946</td><td>235.733657</td><td>238.206758</td><td>240.716762</td><td>243.199707</td><td>&hellip;</td><td>-1.3820e-9</td><td>2.0563e-8</td><td>-7.7391e-8</td><td>4.6357e-9</td><td>-3.4233e-9</td><td>-7.1200e-8</td><td>-1.5269e-7</td><td>-2.0135e-7</td><td>-8.7707e-8</td><td>1.6523e-7</td><td>2.0816e-7</td><td>1.0222e-7</td><td>-1.7261e-7</td><td>-1.9469e-7</td><td>1.0566e-8</td><td>-8.1143e-9</td><td>-2.7226e-7</td><td>-6.9284e-7</td><td>-0.000002</td><td>-0.000001</td><td>-6.1374e-7</td><td>3.5630e-7</td><td>0.000001</td><td>0.000001</td><td>0.000002</td><td>0.000001</td><td>-0.000002</td><td>-0.000008</td><td>0.000011</td><td>37.786375</td><td>321.328592</td><td>1.7822e-8</td><td>3.4158e-8</td><td>1.1861e-7</td><td>6.7697e-7</td><td>23.788084</td><td>16.911529</td></tr><tr><td>&quot;train_856700&quot;</td><td>208.503157</td><td>228.572727</td><td>232.604764</td><td>240.169234</td><td>244.444724</td><td>245.95778</td><td>238.617967</td><td>232.626109</td><td>227.378977</td><td>225.347062</td><td>224.967762</td><td>224.720095</td><td>224.263587</td><td>223.491187</td><td>222.285655</td><td>221.029766</td><td>219.896398</td><td>218.973177</td><td>217.949389</td><td>215.119061</td><td>212.160979</td><td>210.252554</td><td>209.134708</td><td>208.898253</td><td>209.08148</td><td>209.621639</td><td>210.397508</td><td>211.50501</td><td>212.892911</td><td>214.439522</td><td>216.120503</td><td>218.076249</td><td>220.354989</td><td>222.84311</td><td>225.412847</td><td>227.959097</td><td>&hellip;</td><td>6.9390e-12</td><td>-3.8016e-11</td><td>-6.1241e-11</td><td>4.1925e-11</td><td>6.7408e-11</td><td>5.7122e-11</td><td>8.9830e-11</td><td>6.0674e-11</td><td>1.7459e-11</td><td>-8.2869e-12</td><td>-1.1217e-11</td><td>5.3426e-12</td><td>2.4992e-11</td><td>1.6549e-11</td><td>-1.4798e-11</td><td>3.6880e-11</td><td>1.9742e-12</td><td>1.7872e-11</td><td>-3.7419e-11</td><td>-1.7283e-10</td><td>-3.0020e-10</td><td>-1.8665e-10</td><td>3.1033e-10</td><td>-1.7309e-11</td><td>-8.5407e-8</td><td>5.5765e-7</td><td>-0.000001</td><td>0.000001</td><td>-5.3174e-7</td><td>15.257785</td><td>180.084729</td><td>1.0191e-8</td><td>1.0191e-8</td><td>0.521506</td><td>2.195795</td><td>15.543283</td><td>14.388648</td></tr><tr><td>&quot;train_856701&quot;</td><td>211.498267</td><td>233.867707</td><td>238.70206</td><td>240.93841</td><td>244.79861</td><td>247.414092</td><td>240.465712</td><td>234.161907</td><td>228.329206</td><td>225.924888</td><td>225.307517</td><td>224.813847</td><td>224.147727</td><td>223.277559</td><td>221.896788</td><td>220.214229</td><td>218.804129</td><td>217.810821</td><td>216.776231</td><td>214.107523</td><td>211.610735</td><td>210.081165</td><td>209.350833</td><td>209.482645</td><td>209.781555</td><td>210.323062</td><td>211.093403</td><td>212.120203</td><td>213.370362</td><td>214.774195</td><td>216.286575</td><td>218.029288</td><td>220.259625</td><td>222.843051</td><td>225.495474</td><td>228.178514</td><td>&hellip;</td><td>-2.3874e-9</td><td>-2.8286e-9</td><td>-1.1032e-10</td><td>6.7215e-9</td><td>1.7949e-9</td><td>-1.4457e-8</td><td>8.9773e-8</td><td>-6.6244e-8</td><td>3.7578e-9</td><td>1.0247e-8</td><td>-9.8870e-9</td><td>-4.2378e-9</td><td>-1.2549e-9</td><td>1.1238e-8</td><td>1.1266e-8</td><td>-6.6895e-10</td><td>-1.4186e-9</td><td>-2.0885e-8</td><td>1.7886e-7</td><td>-3.3243e-7</td><td>2.7584e-8</td><td>2.3146e-7</td><td>-7.7786e-8</td><td>-1.5670e-8</td><td>3.5209e-7</td><td>-5.9616e-7</td><td>5.4882e-7</td><td>0.000002</td><td>-0.000003</td><td>9.54512</td><td>203.905765</td><td>6.5152e-9</td><td>6.5152e-9</td><td>0.057483</td><td>0.359297</td><td>12.281326</td><td>11.617389</td></tr><tr><td>&quot;train_856702&quot;</td><td>213.687595</td><td>224.331743</td><td>231.563532</td><td>241.531658</td><td>247.5907</td><td>247.361025</td><td>239.942349</td><td>233.966628</td><td>228.329086</td><td>224.989066</td><td>222.49216</td><td>220.73631</td><td>219.810218</td><td>219.42788</td><td>219.168738</td><td>219.119234</td><td>218.727942</td><td>218.911339</td><td>218.431555</td><td>217.346961</td><td>215.912699</td><td>215.294392</td><td>215.491015</td><td>216.63515</td><td>218.193029</td><td>219.711129</td><td>221.161468</td><td>222.747355</td><td>224.518831</td><td>226.37291</td><td>228.344998</td><td>230.425875</td><td>232.561586</td><td>234.568737</td><td>236.473331</td><td>238.311079</td><td>&hellip;</td><td>-4.8036e-7</td><td>6.4283e-7</td><td>-7.1518e-7</td><td>-9.1792e-7</td><td>1.7715e-7</td><td>-6.8069e-7</td><td>-0.000001</td><td>-2.5668e-7</td><td>-0.000001</td><td>-0.000003</td><td>6.2680e-7</td><td>0.000003</td><td>3.5347e-7</td><td>-0.000003</td><td>-0.00001</td><td>-0.000013</td><td>-0.000011</td><td>-0.000011</td><td>-0.000013</td><td>-0.00001</td><td>-0.000004</td><td>-0.000002</td><td>0.00001</td><td>0.000053</td><td>0.000046</td><td>0.000024</td><td>0.000012</td><td>0.000013</td><td>-0.000042</td><td>115.202187</td><td>268.92534</td><td>1.2209e-8</td><td>1.5585e-8</td><td>18.908758</td><td>55.097867</td><td>37.744758</td><td>21.810664</td></tr><tr><td>&quot;train_856703&quot;</td><td>211.170911</td><td>230.19348</td><td>232.871351</td><td>240.577839</td><td>247.593376</td><td>249.833851</td><td>242.327782</td><td>236.138264</td><td>229.783696</td><td>226.354406</td><td>223.569268</td><td>221.206505</td><td>219.799681</td><td>219.2689</td><td>218.891768</td><td>218.468891</td><td>217.6355</td><td>217.364727</td><td>216.413331</td><td>215.076994</td><td>213.700675</td><td>213.505859</td><td>214.217866</td><td>215.906827</td><td>217.730024</td><td>219.433078</td><td>221.05703</td><td>222.74182</td><td>224.461537</td><td>226.162243</td><td>227.85603</td><td>229.556892</td><td>231.486762</td><td>233.337739</td><td>235.022783</td><td>236.682483</td><td>&hellip;</td><td>-7.4827e-7</td><td>-0.000001</td><td>8.1230e-7</td><td>-3.0507e-7</td><td>1.0644e-7</td><td>1.3532e-7</td><td>3.0515e-7</td><td>6.9190e-7</td><td>-2.6038e-8</td><td>7.4452e-9</td><td>-0.000006</td><td>-0.000007</td><td>0.000001</td><td>0.000004</td><td>-0.000005</td><td>-0.000014</td><td>-0.000022</td><td>-0.00003</td><td>-0.000025</td><td>-0.000026</td><td>-0.000003</td><td>0.000024</td><td>0.000021</td><td>0.000049</td><td>0.000039</td><td>0.000022</td><td>0.000015</td><td>0.00001</td><td>-0.000006</td><td>133.127191</td><td>250.264096</td><td>8.7284e-9</td><td>1.0663e-8</td><td>38.575707</td><td>63.332314</td><td>35.501238</td><td>20.855904</td></tr></tbody></table></div>"
      ],
      "text/plain": [
       "shape: (4_617_216, 925)\n",
       "┌───────────┬───────────┬───────────┬───────────┬───┬───────────┬───────────┬───────────┬──────────┐\n",
       "│ sample_id ┆ state_t_0 ┆ state_t_1 ┆ state_t_2 ┆ … ┆ cam_out_S ┆ cam_out_S ┆ cam_out_S ┆ cam_out_ │\n",
       "│ ---       ┆ ---       ┆ ---       ┆ ---       ┆   ┆ OLS       ┆ OLL       ┆ OLSD      ┆ SOLLD    │\n",
       "│ str       ┆ f64       ┆ f64       ┆ f64       ┆   ┆ ---       ┆ ---       ┆ ---       ┆ ---      │\n",
       "│           ┆           ┆           ┆           ┆   ┆ f64       ┆ f64       ┆ f64       ┆ f64      │\n",
       "╞═══════════╪═══════════╪═══════════╪═══════════╪═══╪═══════════╪═══════════╪═══════════╪══════════╡\n",
       "│ train_0   ┆ 213.01539 ┆ 222.98250 ┆ 229.06015 ┆ … ┆ 0.0       ┆ 0.0       ┆ 0.0       ┆ 0.0      │\n",
       "│           ┆ 9         ┆ 4         ┆ 5         ┆   ┆           ┆           ┆           ┆          │\n",
       "│ train_1   ┆ 212.92880 ┆ 219.21526 ┆ 226.87789 ┆ … ┆ 0.0       ┆ 0.0       ┆ 0.0       ┆ 0.0      │\n",
       "│           ┆ 5         ┆ 3         ┆ 6         ┆   ┆           ┆           ┆           ┆          │\n",
       "│ train_2   ┆ 213.87914 ┆ 230.12747 ┆ 232.44048 ┆ … ┆ 0.0       ┆ 0.0       ┆ 0.0       ┆ 0.0      │\n",
       "│           ┆ 7         ┆ 1         ┆ 8         ┆   ┆           ┆           ┆           ┆          │\n",
       "│ train_3   ┆ 212.82260 ┆ 221.72906 ┆ 227.38184 ┆ … ┆ 0.0       ┆ 0.0       ┆ 0.0       ┆ 0.0      │\n",
       "│           ┆ 7         ┆ 2         ┆ 1         ┆   ┆           ┆           ┆           ┆          │\n",
       "│ train_4   ┆ 214.12286 ┆ 219.78763 ┆ 227.75373 ┆ … ┆ 0.0       ┆ 0.0       ┆ 0.0       ┆ 0.0      │\n",
       "│           ┆           ┆ 5         ┆ 1         ┆   ┆           ┆           ┆           ┆          │\n",
       "│ …         ┆ …         ┆ …         ┆ …         ┆ … ┆ …         ┆ …         ┆ …         ┆ …        │\n",
       "│ train_856 ┆ 221.18710 ┆ 226.35297 ┆ 236.53554 ┆ … ┆ 1.1861e-7 ┆ 6.7697e-7 ┆ 23.788084 ┆ 16.91152 │\n",
       "│ 699       ┆ 3         ┆ 5         ┆ 9         ┆   ┆           ┆           ┆           ┆ 9        │\n",
       "│ train_856 ┆ 208.50315 ┆ 228.57272 ┆ 232.60476 ┆ … ┆ 0.521506  ┆ 2.195795  ┆ 15.543283 ┆ 14.38864 │\n",
       "│ 700       ┆ 7         ┆ 7         ┆ 4         ┆   ┆           ┆           ┆           ┆ 8        │\n",
       "│ train_856 ┆ 211.49826 ┆ 233.86770 ┆ 238.70206 ┆ … ┆ 0.057483  ┆ 0.359297  ┆ 12.281326 ┆ 11.61738 │\n",
       "│ 701       ┆ 7         ┆ 7         ┆           ┆   ┆           ┆           ┆           ┆ 9        │\n",
       "│ train_856 ┆ 213.68759 ┆ 224.33174 ┆ 231.56353 ┆ … ┆ 18.908758 ┆ 55.097867 ┆ 37.744758 ┆ 21.81066 │\n",
       "│ 702       ┆ 5         ┆ 3         ┆ 2         ┆   ┆           ┆           ┆           ┆ 4        │\n",
       "│ train_856 ┆ 211.17091 ┆ 230.19348 ┆ 232.87135 ┆ … ┆ 38.575707 ┆ 63.332314 ┆ 35.501238 ┆ 20.85590 │\n",
       "│ 703       ┆ 1         ┆           ┆ 1         ┆   ┆           ┆           ┆           ┆ 4        │\n",
       "└───────────┴───────────┴───────────┴───────────┴───┴───────────┴───────────┴───────────┴──────────┘"
      ]
     },
     "execution_count": 11,
     "metadata": {},
     "output_type": "execute_result"
    }
   ],
   "source": [
    "df"
   ]
  },
  {
   "cell_type": "code",
   "execution_count": 12,
   "id": "35528b65",
   "metadata": {},
   "outputs": [
    {
     "data": {
      "text/html": [
       "<div>\n",
       "<style scoped>\n",
       "    .dataframe tbody tr th:only-of-type {\n",
       "        vertical-align: middle;\n",
       "    }\n",
       "\n",
       "    .dataframe tbody tr th {\n",
       "        vertical-align: top;\n",
       "    }\n",
       "\n",
       "    .dataframe thead th {\n",
       "        text-align: right;\n",
       "    }\n",
       "</style>\n",
       "<table border=\"1\" class=\"dataframe\">\n",
       "  <thead>\n",
       "    <tr style=\"text-align: right;\">\n",
       "      <th></th>\n",
       "      <th>sample_id</th>\n",
       "      <th>ptend_t_0</th>\n",
       "      <th>ptend_t_1</th>\n",
       "      <th>ptend_t_2</th>\n",
       "      <th>ptend_t_3</th>\n",
       "      <th>ptend_t_4</th>\n",
       "      <th>ptend_t_5</th>\n",
       "      <th>ptend_t_6</th>\n",
       "      <th>ptend_t_7</th>\n",
       "      <th>ptend_t_8</th>\n",
       "      <th>...</th>\n",
       "      <th>ptend_v_58</th>\n",
       "      <th>ptend_v_59</th>\n",
       "      <th>cam_out_NETSW</th>\n",
       "      <th>cam_out_FLWDS</th>\n",
       "      <th>cam_out_PRECSC</th>\n",
       "      <th>cam_out_PRECC</th>\n",
       "      <th>cam_out_SOLS</th>\n",
       "      <th>cam_out_SOLL</th>\n",
       "      <th>cam_out_SOLSD</th>\n",
       "      <th>cam_out_SOLLD</th>\n",
       "    </tr>\n",
       "  </thead>\n",
       "  <tbody>\n",
       "    <tr>\n",
       "      <th>0</th>\n",
       "      <td>test_0</td>\n",
       "      <td>1</td>\n",
       "      <td>1</td>\n",
       "      <td>1</td>\n",
       "      <td>1</td>\n",
       "      <td>1</td>\n",
       "      <td>1</td>\n",
       "      <td>1</td>\n",
       "      <td>1</td>\n",
       "      <td>1</td>\n",
       "      <td>...</td>\n",
       "      <td>1</td>\n",
       "      <td>1</td>\n",
       "      <td>1</td>\n",
       "      <td>1</td>\n",
       "      <td>1</td>\n",
       "      <td>1</td>\n",
       "      <td>1</td>\n",
       "      <td>1</td>\n",
       "      <td>1</td>\n",
       "      <td>1</td>\n",
       "    </tr>\n",
       "  </tbody>\n",
       "</table>\n",
       "<p>1 rows × 369 columns</p>\n",
       "</div>"
      ],
      "text/plain": [
       "  sample_id  ptend_t_0  ptend_t_1  ptend_t_2  ptend_t_3  ptend_t_4  ptend_t_5  \\\n",
       "0    test_0          1          1          1          1          1          1   \n",
       "\n",
       "   ptend_t_6  ptend_t_7  ptend_t_8  ...  ptend_v_58  ptend_v_59  \\\n",
       "0          1          1          1  ...           1           1   \n",
       "\n",
       "   cam_out_NETSW  cam_out_FLWDS  cam_out_PRECSC  cam_out_PRECC  cam_out_SOLS  \\\n",
       "0              1              1               1              1             1   \n",
       "\n",
       "   cam_out_SOLL  cam_out_SOLSD  cam_out_SOLLD  \n",
       "0             1              1              1  \n",
       "\n",
       "[1 rows x 369 columns]"
      ]
     },
     "execution_count": 12,
     "metadata": {},
     "output_type": "execute_result"
    }
   ],
   "source": [
    "sample"
   ]
  },
  {
   "cell_type": "code",
   "execution_count": null,
   "id": "a9b2310a",
   "metadata": {},
   "outputs": [],
   "source": []
  }
 ],
 "metadata": {
  "kernelspec": {
   "display_name": "Python 3 (ipykernel)",
   "language": "python",
   "name": "python3"
  },
  "language_info": {
   "codemirror_mode": {
    "name": "ipython",
    "version": 3
   },
   "file_extension": ".py",
   "mimetype": "text/x-python",
   "name": "python",
   "nbconvert_exporter": "python",
   "pygments_lexer": "ipython3",
   "version": "3.10.12"
  }
 },
 "nbformat": 4,
 "nbformat_minor": 5
}

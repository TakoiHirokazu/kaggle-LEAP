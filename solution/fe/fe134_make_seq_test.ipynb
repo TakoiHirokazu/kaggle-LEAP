{
 "cells": [
  {
   "cell_type": "code",
   "execution_count": 1,
   "id": "d23284cf",
   "metadata": {},
   "outputs": [],
   "source": [
    "# =============================\n",
    "# library\n",
    "# =============================\n",
    "import pandas as pd\n",
    "import numpy as np\n",
    "from pathlib import Path\n",
    "import matplotlib.pyplot as plt\n",
    "import polars as pl\n",
    "from tqdm import tqdm\n",
    "import pickle"
   ]
  },
  {
   "cell_type": "code",
   "execution_count": 2,
   "id": "02ea1e44",
   "metadata": {},
   "outputs": [],
   "source": [
    "# =============================\n",
    "# constant\n",
    "# =============================\n",
    "TRAIN_PATH = Path(\"../storage/leap/data/train.csv\")\n",
    "TEST_PATH = Path(\"../storage/leap/data/test.csv\")\n",
    "OUTPUT_DIR = Path(\"../storage/leap/output\")\n",
    "DATA_DIR = Path(\"../storage/leap/data\")"
   ]
  },
  {
   "cell_type": "code",
   "execution_count": 3,
   "id": "55dfd6fb",
   "metadata": {},
   "outputs": [],
   "source": [
    "# =============================\n",
    "# settings\n",
    "# =============================\n",
    "fe = \"134\"\n",
    "fe_dir = OUTPUT_DIR / \"fe\" / f\"fe{fe}\"\n",
    "fe_dir.mkdir(parents=True, exist_ok=True)\n",
    "fe_save_dir = fe_dir / \"save\"\n",
    "fe_save_dir.mkdir(parents=True, exist_ok=True)\n",
    "TEST_PATH1 = Path(\"../storage/leap/output/fe/fe100/fe100_test.parquet\")\n",
    "\n",
    "train_sc_path = OUTPUT_DIR / \"fe\" / \"fe101\" /  \"fe101_train_mean_std.pkl\"\n",
    "train_target_path = OUTPUT_DIR / \"fe\" / \"fe101\" /  \"fe101_target_mean_std.pkl\""
   ]
  },
  {
   "cell_type": "code",
   "execution_count": 4,
   "id": "75fe1e88",
   "metadata": {},
   "outputs": [],
   "source": [
    "# =============================\n",
    "# columns\n",
    "# =============================\n",
    "state_t = [f'state_t_{i}' for i in range(60)]\n",
    "state_q0001 = [f'state_q0001_{i}' for i in range(60)]\n",
    "state_q0002 = [f'state_q0002_{i}' for i in range(60)]\n",
    "state_q0003 = [f'state_q0003_{i}' for i in range(60)]\n",
    "state_u = [f'state_u_{i}' for i in range(60)]\n",
    "state_v = [f'state_v_{i}' for i in range(60)]\n",
    "other = ['state_ps', 'pbuf_SOLIN', 'pbuf_LHFLX', 'pbuf_SHFLX',\n",
    "       'pbuf_TAUX', 'pbuf_TAUY', 'pbuf_COSZRS', 'cam_in_ALDIF', 'cam_in_ALDIR',\n",
    "       'cam_in_ASDIF', 'cam_in_ASDIR', 'cam_in_LWUP', 'cam_in_ICEFRAC',\n",
    "       'cam_in_LANDFRAC', 'cam_in_OCNFRAC', 'cam_in_SNOWHLAND']\n",
    "pbuf_ozone = [f'pbuf_ozone_{i}' for i in range(60)]\n",
    "pbuf_CH4 = [f'pbuf_CH4_{i}' for i in range(60)]\n",
    "pbuf_N2O = [f'pbuf_N2O_{i}' for i in range(60)]\n",
    "cols_list = [state_t,state_q0001,state_q0002,state_q0003,\n",
    "             state_u,state_v,pbuf_ozone,pbuf_CH4,pbuf_N2O,other]"
   ]
  },
  {
   "cell_type": "code",
   "execution_count": 5,
   "id": "0f0b634f",
   "metadata": {},
   "outputs": [],
   "source": [
    "# =============================\n",
    "# target\n",
    "# =============================\n",
    "ptend_t = [f'ptend_t_{i}' for i in range(60)]\n",
    "ptend_q0001 = [f'ptend_q0001_{i}' for i in range(60)]\n",
    "ptend_q0002 = [f'ptend_q0002_{i}' for i in range(60)]\n",
    "ptend_q0003 = [f'ptend_q0003_{i}' for i in range(60)]\n",
    "ptend_u = [f'ptend_u_{i}' for i in range(60)]\n",
    "ptend_v = [f'ptend_v_{i}' for i in range(60)]\n",
    "other_target= ['cam_out_NETSW', 'cam_out_FLWDS', 'cam_out_PRECSC', 'cam_out_PRECC', 'cam_out_SOLS', 'cam_out_SOLL', 'cam_out_SOLSD', 'cam_out_SOLLD']\n",
    "target_list = [ptend_t,ptend_q0001, ptend_q0002,ptend_q0003,ptend_u,ptend_v,other_target]"
   ]
  },
  {
   "cell_type": "code",
   "execution_count": 6,
   "id": "5be933a9",
   "metadata": {},
   "outputs": [],
   "source": [
    "# =============================\n",
    "# main\n",
    "# =============================\n",
    "df = pl.read_parquet(TEST_PATH1)"
   ]
  },
  {
   "cell_type": "code",
   "execution_count": 7,
   "id": "0095440a",
   "metadata": {},
   "outputs": [],
   "source": [
    "with open(train_sc_path  , 'rb') as f:\n",
    "    train_sc_dict = pickle.load(f) \n",
    "with open(train_target_path  , 'rb') as f:\n",
    "    target_sc_dict = pickle.load(f) "
   ]
  },
  {
   "cell_type": "code",
   "execution_count": 8,
   "id": "f1127732",
   "metadata": {},
   "outputs": [
    {
     "name": "stderr",
     "output_type": "stream",
     "text": [
      "100%|██████████| 10/10 [00:01<00:00,  6.06it/s]\n"
     ]
    }
   ],
   "source": [
    "for c in tqdm(cols_list):\n",
    "    df_ = df[c].to_numpy()\n",
    "    if len(c) == 60:\n",
    "        prefix = \"_\".join(c[0].split(\"_\")[:2])\n",
    "        if (prefix == \"state_q0002\") |  (prefix == \"state_q0003\"):\n",
    "            np.save(fe_dir / f\"fe{fe}_{prefix}_raw.npy\",df_)\n",
    "        for i in range(60):\n",
    "            df_[:,i] = (df_[:,i] - train_sc_dict[f\"{prefix}_{i}\"][0]) / train_sc_dict[f\"{prefix}_{i}\"][1]\n",
    "        df_ = df_.astype(np.float32)\n",
    "        np.save(fe_dir / f\"fe{fe}_{prefix}.npy\",df_)\n",
    "    else:\n",
    "        for n,c_ in enumerate(c):\n",
    "            df_[:,n] = (df_[:,n] - train_sc_dict[c_][0]) / train_sc_dict[c_][1]\n",
    "        df_ = df_.astype(np.float32)\n",
    "        np.save(fe_dir / f\"fe{fe}_other.npy\",df_)"
   ]
  },
  {
   "cell_type": "code",
   "execution_count": null,
   "id": "f94474d9",
   "metadata": {},
   "outputs": [],
   "source": []
  }
 ],
 "metadata": {
  "kernelspec": {
   "display_name": "Python 3 (ipykernel)",
   "language": "python",
   "name": "python3"
  },
  "language_info": {
   "codemirror_mode": {
    "name": "ipython",
    "version": 3
   },
   "file_extension": ".py",
   "mimetype": "text/x-python",
   "name": "python",
   "nbconvert_exporter": "python",
   "pygments_lexer": "ipython3",
   "version": "3.10.12"
  }
 },
 "nbformat": 4,
 "nbformat_minor": 5
}

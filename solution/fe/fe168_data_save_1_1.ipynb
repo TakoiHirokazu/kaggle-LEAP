{
 "cells": [
  {
   "cell_type": "code",
   "execution_count": 1,
   "id": "b06c7d96",
   "metadata": {},
   "outputs": [],
   "source": [
    "# =============================\n",
    "# library\n",
    "# =============================\n",
    "import pandas as pd\n",
    "import numpy as np\n",
    "from pathlib import Path\n",
    "import matplotlib.pyplot as plt\n",
    "import polars as pl\n",
    "from sklearn.preprocessing import StandardScaler\n",
    "import glob\n",
    "from tqdm import tqdm"
   ]
  },
  {
   "cell_type": "code",
   "execution_count": 2,
   "id": "796fd605",
   "metadata": {},
   "outputs": [],
   "source": [
    "# =============================\n",
    "# constant\n",
    "# =============================\n",
    "TRAIN_PATH = Path(\"../storage/leap/data/train.csv\")\n",
    "TEST_PATH = Path(\"../storage/leap/data/test.csv\")\n",
    "OUTPUT_DIR = Path(\"../storage/leap/output\")\n",
    "DATA_DIR = Path(\"../storage/leap/data\")\n",
    "TRAIN_DATA1_DIR = Path(\"../storage/leap/data/train_0001\")"
   ]
  },
  {
   "cell_type": "code",
   "execution_count": 3,
   "id": "2a3fc574",
   "metadata": {},
   "outputs": [],
   "source": [
    "# =============================\n",
    "# settings\n",
    "# =============================\n",
    "fe = \"168\"\n",
    "fe_dir = OUTPUT_DIR / \"fe\" / f\"fe{fe}\"\n",
    "fe_dir.mkdir(parents=True, exist_ok=True)\n",
    "fe_save_dir = fe_dir / \"save\"\n",
    "fe_save_dir.mkdir(parents=True, exist_ok=True)"
   ]
  },
  {
   "cell_type": "code",
   "execution_count": 4,
   "id": "0be01556",
   "metadata": {},
   "outputs": [],
   "source": [
    "# =============================\n",
    "# columns\n",
    "# =============================\n",
    "state_t = [f'state_t_{i}' for i in range(60)]\n",
    "state_q0001 = [f'state_q0001_{i}' for i in range(60)]\n",
    "state_q0002 = [f'state_q0002_{i}' for i in range(60)]\n",
    "state_q0003 = [f'state_q0003_{i}' for i in range(60)]\n",
    "state_u = [f'state_u_{i}' for i in range(60)]\n",
    "state_v = [f'state_v_{i}' for i in range(60)]\n",
    "other = ['state_ps', 'pbuf_SOLIN', 'pbuf_LHFLX', 'pbuf_SHFLX',\n",
    "       'pbuf_TAUX', 'pbuf_TAUY', 'pbuf_COSZRS', 'cam_in_ALDIF', 'cam_in_ALDIR',\n",
    "       'cam_in_ASDIF', 'cam_in_ASDIR', 'cam_in_LWUP', 'cam_in_ICEFRAC',\n",
    "       'cam_in_LANDFRAC', 'cam_in_OCNFRAC', 'cam_in_SNOWHLAND']\n",
    "pbuf_ozone = [f'pbuf_ozone_{i}' for i in range(60)]\n",
    "pbuf_CH4 = [f'pbuf_CH4_{i}' for i in range(60)]\n",
    "pbuf_N2O = [f'pbuf_N2O_{i}' for i in range(60)]\n",
    "cols_list = [state_t,state_q0001,state_q0002,state_q0003,\n",
    "             state_u,state_v,pbuf_ozone,pbuf_CH4,pbuf_N2O,other]"
   ]
  },
  {
   "cell_type": "code",
   "execution_count": 5,
   "id": "3dabea21",
   "metadata": {},
   "outputs": [],
   "source": [
    "# =============================\n",
    "# target\n",
    "# =============================\n",
    "ptend_t = [f'ptend_t_{i}' for i in range(60)]\n",
    "ptend_q0001 = [f'ptend_q0001_{i}' for i in range(60)]\n",
    "ptend_q0002 = [f'ptend_q0002_{i}' for i in range(60)]\n",
    "ptend_q0003 = [f'ptend_q0003_{i}' for i in range(60)]\n",
    "ptend_u = [f'ptend_u_{i}' for i in range(60)]\n",
    "ptend_v = [f'ptend_v_{i}' for i in range(60)]\n",
    "other_target= ['cam_out_NETSW', 'cam_out_FLWDS', 'cam_out_PRECSC', 'cam_out_PRECC', 'cam_out_SOLS', 'cam_out_SOLL', 'cam_out_SOLSD', 'cam_out_SOLLD']\n",
    "target_list = [ptend_t,ptend_q0001, ptend_q0002,ptend_q0003,ptend_u,ptend_v,other_target]"
   ]
  },
  {
   "cell_type": "code",
   "execution_count": 6,
   "id": "6ddeb4a8",
   "metadata": {},
   "outputs": [
    {
     "name": "stderr",
     "output_type": "stream",
     "text": [
      "  0%|          | 0/11 [00:00<?, ?it/s]"
     ]
    },
    {
     "name": "stdout",
     "output_type": "stream",
     "text": [
      "2 774144\n"
     ]
    },
    {
     "name": "stderr",
     "output_type": "stream",
     "text": [
      "  9%|▉         | 1/11 [00:04<00:49,  4.99s/it]"
     ]
    },
    {
     "name": "stdout",
     "output_type": "stream",
     "text": [
      "3 857088\n"
     ]
    },
    {
     "name": "stderr",
     "output_type": "stream",
     "text": [
      " 18%|█▊        | 2/11 [00:22<01:52, 12.52s/it]"
     ]
    },
    {
     "name": "stdout",
     "output_type": "stream",
     "text": [
      "4 829440\n"
     ]
    },
    {
     "name": "stderr",
     "output_type": "stream",
     "text": [
      " 27%|██▋       | 3/11 [00:33<01:35, 11.93s/it]"
     ]
    },
    {
     "name": "stdout",
     "output_type": "stream",
     "text": [
      "5 857088\n"
     ]
    },
    {
     "name": "stderr",
     "output_type": "stream",
     "text": [
      " 36%|███▋      | 4/11 [00:42<01:12, 10.40s/it]"
     ]
    },
    {
     "name": "stdout",
     "output_type": "stream",
     "text": [
      "6 829440\n"
     ]
    },
    {
     "name": "stderr",
     "output_type": "stream",
     "text": [
      " 45%|████▌     | 5/11 [00:55<01:09, 11.61s/it]"
     ]
    },
    {
     "name": "stdout",
     "output_type": "stream",
     "text": [
      "7 857088\n"
     ]
    },
    {
     "name": "stderr",
     "output_type": "stream",
     "text": [
      " 55%|█████▍    | 6/11 [01:01<00:48,  9.64s/it]"
     ]
    },
    {
     "name": "stdout",
     "output_type": "stream",
     "text": [
      "8 857088\n"
     ]
    },
    {
     "name": "stderr",
     "output_type": "stream",
     "text": [
      " 64%|██████▎   | 7/11 [01:20<00:50, 12.57s/it]"
     ]
    },
    {
     "name": "stdout",
     "output_type": "stream",
     "text": [
      "9 829440\n"
     ]
    },
    {
     "name": "stderr",
     "output_type": "stream",
     "text": [
      " 73%|███████▎  | 8/11 [01:27<00:32, 10.96s/it]"
     ]
    },
    {
     "name": "stdout",
     "output_type": "stream",
     "text": [
      "10 857088\n"
     ]
    },
    {
     "name": "stderr",
     "output_type": "stream",
     "text": [
      " 82%|████████▏ | 9/11 [01:35<00:20, 10.01s/it]"
     ]
    },
    {
     "name": "stdout",
     "output_type": "stream",
     "text": [
      "11 829440\n"
     ]
    },
    {
     "name": "stderr",
     "output_type": "stream",
     "text": [
      " 91%|█████████ | 10/11 [01:41<00:08,  8.83s/it]"
     ]
    },
    {
     "name": "stdout",
     "output_type": "stream",
     "text": [
      "12 857088\n"
     ]
    },
    {
     "name": "stderr",
     "output_type": "stream",
     "text": [
      "100%|██████████| 11/11 [01:47<00:00,  9.80s/it]\n"
     ]
    }
   ],
   "source": [
    "# =============================\n",
    "# main\n",
    "# =============================\n",
    "# 2分の1に間引く\n",
    "df_all = []\n",
    "for i in tqdm(range(2, 13)):\n",
    "    df = pl.read_parquet(f\"{TRAIN_DATA1_DIR}/train_0001_{i}.parquet\")\n",
    "    print(i, df.shape[0])\n",
    "    df = df.with_columns(pl.Series(\"group\", np.arange(len(df))))\n",
    "    df = df.with_columns((pl.col(\"group\") // 384).alias(\"group\"))\n",
    "    df = df.with_columns((pl.col(\"group\") % 2).alias(\"group\"))\n",
    "    df = df.filter(pl.col(\"group\") == 1).drop(\"group\")\n",
    "    df_all.append(df)"
   ]
  },
  {
   "cell_type": "code",
   "execution_count": 7,
   "id": "5f226c61",
   "metadata": {},
   "outputs": [],
   "source": [
    "df_all = pl.concat(df_all)"
   ]
  },
  {
   "cell_type": "code",
   "execution_count": 8,
   "id": "0c5814ca",
   "metadata": {},
   "outputs": [],
   "source": [
    "sample = pd.read_csv(DATA_DIR / \"sample_submission.csv\")\n",
    "sample = sample.iloc[:1,:].reset_index(drop=True)\n",
    "for c in sample.columns[1:]:\n",
    "    w = sample[c].values\n",
    "    df_all = df_all.with_columns(pl.col(c) * w)"
   ]
  },
  {
   "cell_type": "code",
   "execution_count": 9,
   "id": "4eea426f",
   "metadata": {},
   "outputs": [
    {
     "name": "stdout",
     "output_type": "stream",
     "text": [
      "(4617216, 925)\n"
     ]
    }
   ],
   "source": [
    "print(df_all.shape)"
   ]
  },
  {
   "cell_type": "code",
   "execution_count": 10,
   "id": "9f763959",
   "metadata": {},
   "outputs": [],
   "source": [
    "df_all.write_parquet(OUTPUT_DIR / \"fe\" / f\"fe{fe}\" / f\"fe{fe}_train.parquet\")"
   ]
  },
  {
   "cell_type": "code",
   "execution_count": null,
   "id": "376e76a6",
   "metadata": {},
   "outputs": [],
   "source": []
  }
 ],
 "metadata": {
  "kernelspec": {
   "display_name": "Python 3 (ipykernel)",
   "language": "python",
   "name": "python3"
  },
  "language_info": {
   "codemirror_mode": {
    "name": "ipython",
    "version": 3
   },
   "file_extension": ".py",
   "mimetype": "text/x-python",
   "name": "python",
   "nbconvert_exporter": "python",
   "pygments_lexer": "ipython3",
   "version": "3.10.12"
  }
 },
 "nbformat": 4,
 "nbformat_minor": 5
}

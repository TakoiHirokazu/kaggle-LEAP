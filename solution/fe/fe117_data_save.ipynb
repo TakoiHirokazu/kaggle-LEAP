{
 "cells": [
  {
   "cell_type": "code",
   "execution_count": 1,
   "id": "d2d25a4c",
   "metadata": {},
   "outputs": [],
   "source": [
    "# =============================\n",
    "# library\n",
    "# =============================\n",
    "import pandas as pd\n",
    "import numpy as np\n",
    "from pathlib import Path\n",
    "import matplotlib.pyplot as plt\n",
    "import polars as pl\n",
    "from sklearn.preprocessing import StandardScaler"
   ]
  },
  {
   "cell_type": "code",
   "execution_count": 2,
   "id": "d18c0164",
   "metadata": {},
   "outputs": [],
   "source": [
    "# =============================\n",
    "# constant\n",
    "# =============================\n",
    "TEST_PATH = Path(\"../storage/leap/data/test.csv\")\n",
    "OUTPUT_DIR = Path(\"../storage/leap/output\")\n",
    "DATA_DIR = Path(\"../storage/leap/data\")"
   ]
  },
  {
   "cell_type": "code",
   "execution_count": 3,
   "id": "126af53e",
   "metadata": {},
   "outputs": [],
   "source": [
    "# =============================\n",
    "# settings\n",
    "# =============================\n",
    "fe = \"117\"\n",
    "fe_dir = OUTPUT_DIR / \"fe\" / f\"fe{fe}\"\n",
    "fe_dir.mkdir(parents=True, exist_ok=True)\n",
    "fe_save_dir = fe_dir / \"save\"\n",
    "fe_save_dir.mkdir(parents=True, exist_ok=True)\n",
    "TRAIN_PATH = Path(\"../storage/leap/output/fe/fe092/train_0003_all_2_concat.parquet\")\n",
    "TRAIN_PATH2 = Path(\"../storage/leap/output/fe/fe116/train_0002_all_2_concat.parquet\")"
   ]
  },
  {
   "cell_type": "code",
   "execution_count": 4,
   "id": "2f4dc6a8",
   "metadata": {},
   "outputs": [],
   "source": [
    "# =============================\n",
    "# columns\n",
    "# =============================\n",
    "state_t = [f'state_t_{i}' for i in range(60)]\n",
    "state_q0001 = [f'state_q0001_{i}' for i in range(60)]\n",
    "state_q0002 = [f'state_q0002_{i}' for i in range(60)]\n",
    "state_q0003 = [f'state_q0003_{i}' for i in range(60)]\n",
    "state_u = [f'state_u_{i}' for i in range(60)]\n",
    "state_v = [f'state_v_{i}' for i in range(60)]\n",
    "other = ['state_ps', 'pbuf_SOLIN', 'pbuf_LHFLX', 'pbuf_SHFLX',\n",
    "       'pbuf_TAUX', 'pbuf_TAUY', 'pbuf_COSZRS', 'cam_in_ALDIF', 'cam_in_ALDIR',\n",
    "       'cam_in_ASDIF', 'cam_in_ASDIR', 'cam_in_LWUP', 'cam_in_ICEFRAC',\n",
    "       'cam_in_LANDFRAC', 'cam_in_OCNFRAC', 'cam_in_SNOWHLAND']\n",
    "pbuf_ozone = [f'pbuf_ozone_{i}' for i in range(60)]\n",
    "pbuf_CH4 = [f'pbuf_CH4_{i}' for i in range(60)]\n",
    "pbuf_N2O = [f'pbuf_N2O_{i}' for i in range(60)]\n",
    "cols_list = [state_t,state_q0001,state_q0002,state_q0003,\n",
    "             state_u,state_v,pbuf_ozone,pbuf_CH4,pbuf_N2O,other]"
   ]
  },
  {
   "cell_type": "code",
   "execution_count": 5,
   "id": "edc48045",
   "metadata": {},
   "outputs": [],
   "source": [
    "# =============================\n",
    "# target\n",
    "# =============================\n",
    "ptend_t = [f'ptend_t_{i}' for i in range(60)]\n",
    "ptend_q0001 = [f'ptend_q0001_{i}' for i in range(60)]\n",
    "ptend_q0002 = [f'ptend_q0002_{i}' for i in range(60)]\n",
    "ptend_q0003 = [f'ptend_q0003_{i}' for i in range(60)]\n",
    "ptend_u = [f'ptend_u_{i}' for i in range(60)]\n",
    "ptend_v = [f'ptend_v_{i}' for i in range(60)]\n",
    "other_target= ['cam_out_NETSW', 'cam_out_FLWDS', 'cam_out_PRECSC', 'cam_out_PRECC', 'cam_out_SOLS', 'cam_out_SOLL', 'cam_out_SOLSD', 'cam_out_SOLLD']\n",
    "target_list = [ptend_t,ptend_q0001, ptend_q0002,ptend_q0003,ptend_u,ptend_v,other_target]"
   ]
  },
  {
   "cell_type": "code",
   "execution_count": 6,
   "id": "03d70fbc",
   "metadata": {},
   "outputs": [],
   "source": [
    "# =============================\n",
    "# main\n",
    "# =============================\n",
    "df = pl.read_parquet(TRAIN_PATH)\n",
    "df2 = pl.read_parquet(TRAIN_PATH2)\n",
    "df = pl.concat([df,df2])\n",
    "del df2"
   ]
  },
  {
   "cell_type": "code",
   "execution_count": 7,
   "id": "4f8d72a8",
   "metadata": {},
   "outputs": [],
   "source": [
    "sample = pd.read_csv(DATA_DIR / \"sample_submission.csv\")\n",
    "sample = sample.iloc[:1,:].reset_index(drop=True)\n",
    "for c in sample.columns[1:]:\n",
    "    w = sample[c].values\n",
    "    df = df.with_columns(pl.col(c) * w)"
   ]
  },
  {
   "cell_type": "code",
   "execution_count": 8,
   "id": "c5900138",
   "metadata": {},
   "outputs": [],
   "source": [
    "df.write_parquet(OUTPUT_DIR / \"fe\" / f\"fe{fe}\" / f\"fe{fe}_train.parquet\")"
   ]
  },
  {
   "cell_type": "code",
   "execution_count": 9,
   "id": "dad6bbcc",
   "metadata": {},
   "outputs": [
    {
     "data": {
      "text/plain": [
       "(10091520, 925)"
      ]
     },
     "execution_count": 9,
     "metadata": {},
     "output_type": "execute_result"
    }
   ],
   "source": [
    "df.shape"
   ]
  },
  {
   "cell_type": "code",
   "execution_count": null,
   "id": "4518b1c8",
   "metadata": {},
   "outputs": [],
   "source": []
  }
 ],
 "metadata": {
  "kernelspec": {
   "display_name": "Python 3 (ipykernel)",
   "language": "python",
   "name": "python3"
  },
  "language_info": {
   "codemirror_mode": {
    "name": "ipython",
    "version": 3
   },
   "file_extension": ".py",
   "mimetype": "text/x-python",
   "name": "python",
   "nbconvert_exporter": "python",
   "pygments_lexer": "ipython3",
   "version": "3.10.12"
  }
 },
 "nbformat": 4,
 "nbformat_minor": 5
}

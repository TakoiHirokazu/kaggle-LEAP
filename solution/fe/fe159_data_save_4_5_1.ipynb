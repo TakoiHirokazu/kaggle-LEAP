{
 "cells": [
  {
   "cell_type": "code",
   "execution_count": 1,
   "id": "37ac08a9",
   "metadata": {},
   "outputs": [],
   "source": [
    "# =============================\n",
    "# library\n",
    "# =============================\n",
    "import pandas as pd\n",
    "import numpy as np\n",
    "from pathlib import Path\n",
    "import matplotlib.pyplot as plt\n",
    "import polars as pl\n",
    "from sklearn.preprocessing import StandardScaler\n",
    "import glob\n",
    "from tqdm import tqdm"
   ]
  },
  {
   "cell_type": "code",
   "execution_count": 2,
   "id": "76f99f2e",
   "metadata": {},
   "outputs": [],
   "source": [
    "# =============================\n",
    "# constant\n",
    "# =============================\n",
    "TRAIN_PATH = Path(\"../storage/leap/data/train.csv\")\n",
    "TEST_PATH = Path(\"../storage/leap/data/test.csv\")\n",
    "OUTPUT_DIR = Path(\"../storage/leap/output\")\n",
    "DATA_DIR = Path(\"../storage/leap/data\")\n",
    "TRAIN_DATA4_DIR = Path(\"../storage/leap/data/train_0004\")\n",
    "TRAIN_DATA5_DIR = Path(\"../storage/leap/data/train_0005\")"
   ]
  },
  {
   "cell_type": "code",
   "execution_count": 3,
   "id": "3b8c9724",
   "metadata": {},
   "outputs": [],
   "source": [
    "# =============================\n",
    "# settings\n",
    "# =============================\n",
    "fe = \"159\"\n",
    "fe_dir = OUTPUT_DIR / \"fe\" / f\"fe{fe}\"\n",
    "fe_dir.mkdir(parents=True, exist_ok=True)\n",
    "fe_save_dir = fe_dir / \"save\"\n",
    "fe_save_dir.mkdir(parents=True, exist_ok=True)"
   ]
  },
  {
   "cell_type": "code",
   "execution_count": 4,
   "id": "233c5b32",
   "metadata": {},
   "outputs": [],
   "source": [
    "# =============================\n",
    "# columns\n",
    "# =============================\n",
    "state_t = [f'state_t_{i}' for i in range(60)]\n",
    "state_q0001 = [f'state_q0001_{i}' for i in range(60)]\n",
    "state_q0002 = [f'state_q0002_{i}' for i in range(60)]\n",
    "state_q0003 = [f'state_q0003_{i}' for i in range(60)]\n",
    "state_u = [f'state_u_{i}' for i in range(60)]\n",
    "state_v = [f'state_v_{i}' for i in range(60)]\n",
    "other = ['state_ps', 'pbuf_SOLIN', 'pbuf_LHFLX', 'pbuf_SHFLX',\n",
    "       'pbuf_TAUX', 'pbuf_TAUY', 'pbuf_COSZRS', 'cam_in_ALDIF', 'cam_in_ALDIR',\n",
    "       'cam_in_ASDIF', 'cam_in_ASDIR', 'cam_in_LWUP', 'cam_in_ICEFRAC',\n",
    "       'cam_in_LANDFRAC', 'cam_in_OCNFRAC', 'cam_in_SNOWHLAND']\n",
    "pbuf_ozone = [f'pbuf_ozone_{i}' for i in range(60)]\n",
    "pbuf_CH4 = [f'pbuf_CH4_{i}' for i in range(60)]\n",
    "pbuf_N2O = [f'pbuf_N2O_{i}' for i in range(60)]\n",
    "cols_list = [state_t,state_q0001,state_q0002,state_q0003,\n",
    "             state_u,state_v,pbuf_ozone,pbuf_CH4,pbuf_N2O,other]"
   ]
  },
  {
   "cell_type": "code",
   "execution_count": 5,
   "id": "56c9930c",
   "metadata": {},
   "outputs": [],
   "source": [
    "# =============================\n",
    "# target\n",
    "# =============================\n",
    "ptend_t = [f'ptend_t_{i}' for i in range(60)]\n",
    "ptend_q0001 = [f'ptend_q0001_{i}' for i in range(60)]\n",
    "ptend_q0002 = [f'ptend_q0002_{i}' for i in range(60)]\n",
    "ptend_q0003 = [f'ptend_q0003_{i}' for i in range(60)]\n",
    "ptend_u = [f'ptend_u_{i}' for i in range(60)]\n",
    "ptend_v = [f'ptend_v_{i}' for i in range(60)]\n",
    "other_target= ['cam_out_NETSW', 'cam_out_FLWDS', 'cam_out_PRECSC', 'cam_out_PRECC', 'cam_out_SOLS', 'cam_out_SOLL', 'cam_out_SOLSD', 'cam_out_SOLLD']\n",
    "target_list = [ptend_t,ptend_q0001, ptend_q0002,ptend_q0003,ptend_u,ptend_v,other_target]"
   ]
  },
  {
   "cell_type": "code",
   "execution_count": 6,
   "id": "1184b200",
   "metadata": {},
   "outputs": [
    {
     "name": "stderr",
     "output_type": "stream",
     "text": [
      "  0%|          | 0/12 [00:00<?, ?it/s]"
     ]
    },
    {
     "name": "stdout",
     "output_type": "stream",
     "text": [
      "1 857088\n"
     ]
    },
    {
     "name": "stderr",
     "output_type": "stream",
     "text": [
      "  8%|▊         | 1/12 [00:05<00:59,  5.39s/it]"
     ]
    },
    {
     "name": "stdout",
     "output_type": "stream",
     "text": [
      "2 774144\n"
     ]
    },
    {
     "name": "stderr",
     "output_type": "stream",
     "text": [
      " 17%|█▋        | 2/12 [00:12<01:06,  6.62s/it]"
     ]
    },
    {
     "name": "stdout",
     "output_type": "stream",
     "text": [
      "3 857088\n"
     ]
    },
    {
     "name": "stderr",
     "output_type": "stream",
     "text": [
      " 25%|██▌       | 3/12 [00:19<01:00,  6.68s/it]"
     ]
    },
    {
     "name": "stdout",
     "output_type": "stream",
     "text": [
      "4 829440\n"
     ]
    },
    {
     "name": "stderr",
     "output_type": "stream",
     "text": [
      " 33%|███▎      | 4/12 [00:26<00:53,  6.68s/it]"
     ]
    },
    {
     "name": "stdout",
     "output_type": "stream",
     "text": [
      "5 857088\n"
     ]
    },
    {
     "name": "stderr",
     "output_type": "stream",
     "text": [
      " 42%|████▏     | 5/12 [00:33<00:47,  6.76s/it]"
     ]
    },
    {
     "name": "stdout",
     "output_type": "stream",
     "text": [
      "6 829440\n"
     ]
    },
    {
     "name": "stderr",
     "output_type": "stream",
     "text": [
      " 50%|█████     | 6/12 [00:40<00:41,  6.88s/it]"
     ]
    },
    {
     "name": "stdout",
     "output_type": "stream",
     "text": [
      "7 857088\n"
     ]
    },
    {
     "name": "stderr",
     "output_type": "stream",
     "text": [
      " 58%|█████▊    | 7/12 [00:47<00:35,  7.10s/it]"
     ]
    },
    {
     "name": "stdout",
     "output_type": "stream",
     "text": [
      "8 857088\n"
     ]
    },
    {
     "name": "stderr",
     "output_type": "stream",
     "text": [
      " 67%|██████▋   | 8/12 [00:54<00:28,  7.10s/it]"
     ]
    },
    {
     "name": "stdout",
     "output_type": "stream",
     "text": [
      "9 829440\n"
     ]
    },
    {
     "name": "stderr",
     "output_type": "stream",
     "text": [
      " 75%|███████▌  | 9/12 [01:00<00:19,  6.63s/it]"
     ]
    },
    {
     "name": "stdout",
     "output_type": "stream",
     "text": [
      "10 857088\n"
     ]
    },
    {
     "name": "stderr",
     "output_type": "stream",
     "text": [
      " 83%|████████▎ | 10/12 [01:07<00:13,  6.74s/it]"
     ]
    },
    {
     "name": "stdout",
     "output_type": "stream",
     "text": [
      "11 829440\n"
     ]
    },
    {
     "name": "stderr",
     "output_type": "stream",
     "text": [
      " 92%|█████████▏| 11/12 [01:13<00:06,  6.43s/it]"
     ]
    },
    {
     "name": "stdout",
     "output_type": "stream",
     "text": [
      "12 857088\n"
     ]
    },
    {
     "name": "stderr",
     "output_type": "stream",
     "text": [
      "100%|██████████| 12/12 [01:26<00:00,  7.22s/it]\n",
      "  0%|          | 0/12 [00:00<?, ?it/s]"
     ]
    },
    {
     "name": "stdout",
     "output_type": "stream",
     "text": [
      "1 857088\n"
     ]
    },
    {
     "name": "stderr",
     "output_type": "stream",
     "text": [
      "  8%|▊         | 1/12 [00:18<03:25, 18.71s/it]"
     ]
    },
    {
     "name": "stdout",
     "output_type": "stream",
     "text": [
      "2 774144\n"
     ]
    },
    {
     "name": "stderr",
     "output_type": "stream",
     "text": [
      " 17%|█▋        | 2/12 [00:33<02:46, 16.63s/it]"
     ]
    },
    {
     "name": "stdout",
     "output_type": "stream",
     "text": [
      "3 857088\n"
     ]
    },
    {
     "name": "stderr",
     "output_type": "stream",
     "text": [
      " 25%|██▌       | 3/12 [00:50<02:30, 16.74s/it]"
     ]
    },
    {
     "name": "stdout",
     "output_type": "stream",
     "text": [
      "4 829440\n"
     ]
    },
    {
     "name": "stderr",
     "output_type": "stream",
     "text": [
      " 33%|███▎      | 4/12 [01:03<02:02, 15.35s/it]"
     ]
    },
    {
     "name": "stdout",
     "output_type": "stream",
     "text": [
      "5 857088\n"
     ]
    },
    {
     "name": "stderr",
     "output_type": "stream",
     "text": [
      " 42%|████▏     | 5/12 [01:15<01:38, 14.12s/it]"
     ]
    },
    {
     "name": "stdout",
     "output_type": "stream",
     "text": [
      "6 829440\n"
     ]
    },
    {
     "name": "stderr",
     "output_type": "stream",
     "text": [
      " 50%|█████     | 6/12 [01:32<01:29, 14.87s/it]"
     ]
    },
    {
     "name": "stdout",
     "output_type": "stream",
     "text": [
      "7 857088\n"
     ]
    },
    {
     "name": "stderr",
     "output_type": "stream",
     "text": [
      " 58%|█████▊    | 7/12 [01:46<01:12, 14.52s/it]"
     ]
    },
    {
     "name": "stdout",
     "output_type": "stream",
     "text": [
      "8 857088\n"
     ]
    },
    {
     "name": "stderr",
     "output_type": "stream",
     "text": [
      " 67%|██████▋   | 8/12 [01:53<00:48, 12.12s/it]"
     ]
    },
    {
     "name": "stdout",
     "output_type": "stream",
     "text": [
      "9 829440\n"
     ]
    },
    {
     "name": "stderr",
     "output_type": "stream",
     "text": [
      " 75%|███████▌  | 9/12 [01:58<00:30, 10.20s/it]"
     ]
    },
    {
     "name": "stdout",
     "output_type": "stream",
     "text": [
      "10 857088\n"
     ]
    },
    {
     "name": "stderr",
     "output_type": "stream",
     "text": [
      " 83%|████████▎ | 10/12 [02:13<00:23, 11.68s/it]"
     ]
    },
    {
     "name": "stdout",
     "output_type": "stream",
     "text": [
      "11 829440\n"
     ]
    },
    {
     "name": "stderr",
     "output_type": "stream",
     "text": [
      " 92%|█████████▏| 11/12 [02:30<00:13, 13.25s/it]"
     ]
    },
    {
     "name": "stdout",
     "output_type": "stream",
     "text": [
      "12 857088\n"
     ]
    },
    {
     "name": "stderr",
     "output_type": "stream",
     "text": [
      "100%|██████████| 12/12 [02:50<00:00, 14.19s/it]\n"
     ]
    }
   ],
   "source": [
    "# =============================\n",
    "# main\n",
    "# =============================\n",
    "# 2分の1に間引く\n",
    "df_all = []\n",
    "for i in tqdm(range(1, 13)):\n",
    "    df = pl.read_parquet(f\"{TRAIN_DATA4_DIR}/train_0004_{i}.parquet\")\n",
    "    print(i, df.shape[0])\n",
    "    df = df.with_columns(pl.Series(\"group\", np.arange(len(df))))\n",
    "    df = df.with_columns((pl.col(\"group\") // 384).alias(\"group\"))\n",
    "    df = df.with_columns((pl.col(\"group\") % 2).alias(\"group\"))\n",
    "    df = df.filter(pl.col(\"group\") == 1).drop(\"group\")\n",
    "    df_all.append(df)\n",
    "\n",
    "for i in tqdm(range(1, 13)):\n",
    "    df = pl.read_parquet(f\"{TRAIN_DATA5_DIR}/train_0005_{i}.parquet\")\n",
    "    print(i, df.shape[0])\n",
    "    df = df.with_columns(pl.Series(\"group\", np.arange(len(df))))\n",
    "    df = df.with_columns((pl.col(\"group\") // 384).alias(\"group\"))\n",
    "    df = df.with_columns((pl.col(\"group\") % 2).alias(\"group\"))\n",
    "    df = df.filter(pl.col(\"group\") == 1).drop(\"group\")\n",
    "    df_all.append(df)"
   ]
  },
  {
   "cell_type": "code",
   "execution_count": 7,
   "id": "8bcd6908",
   "metadata": {},
   "outputs": [],
   "source": [
    "df_all = pl.concat(df_all)"
   ]
  },
  {
   "cell_type": "code",
   "execution_count": 8,
   "id": "e00ba1f6",
   "metadata": {},
   "outputs": [],
   "source": [
    "sample = pd.read_csv(DATA_DIR / \"sample_submission.csv\")\n",
    "sample = sample.iloc[:1,:].reset_index(drop=True)\n",
    "for c in sample.columns[1:]:\n",
    "    w = sample[c].values\n",
    "    df_all = df_all.with_columns(pl.col(c) * w)"
   ]
  },
  {
   "cell_type": "code",
   "execution_count": 9,
   "id": "9aab9948",
   "metadata": {},
   "outputs": [
    {
     "name": "stdout",
     "output_type": "stream",
     "text": [
      "(10091520, 925)\n"
     ]
    }
   ],
   "source": [
    "print(df_all.shape)"
   ]
  },
  {
   "cell_type": "code",
   "execution_count": 10,
   "id": "50490df4",
   "metadata": {},
   "outputs": [],
   "source": [
    "df_all.write_parquet(OUTPUT_DIR / \"fe\" / f\"fe{fe}\" / f\"fe{fe}_train.parquet\")"
   ]
  },
  {
   "cell_type": "code",
   "execution_count": null,
   "id": "6ba94d05",
   "metadata": {},
   "outputs": [],
   "source": []
  }
 ],
 "metadata": {
  "kernelspec": {
   "display_name": "Python 3 (ipykernel)",
   "language": "python",
   "name": "python3"
  },
  "language_info": {
   "codemirror_mode": {
    "name": "ipython",
    "version": 3
   },
   "file_extension": ".py",
   "mimetype": "text/x-python",
   "name": "python",
   "nbconvert_exporter": "python",
   "pygments_lexer": "ipython3",
   "version": "3.10.12"
  }
 },
 "nbformat": 4,
 "nbformat_minor": 5
}

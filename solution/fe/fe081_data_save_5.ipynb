{
 "cells": [
  {
   "cell_type": "code",
   "execution_count": 1,
   "id": "c5322d7d",
   "metadata": {},
   "outputs": [],
   "source": [
    "# =============================\n",
    "# library\n",
    "# =============================\n",
    "import pandas as pd\n",
    "import numpy as np\n",
    "from pathlib import Path\n",
    "import matplotlib.pyplot as plt\n",
    "import polars as pl\n",
    "from sklearn.preprocessing import StandardScaler\n",
    "import glob\n",
    "from tqdm import tqdm"
   ]
  },
  {
   "cell_type": "code",
   "execution_count": 2,
   "id": "4041ad58",
   "metadata": {},
   "outputs": [],
   "source": [
    "# =============================\n",
    "# constant\n",
    "# =============================\n",
    "TRAIN_PATH = Path(\"../storage/leap/data/train.csv\")\n",
    "TEST_PATH = Path(\"../storage/leap/data/test.csv\")\n",
    "OUTPUT_DIR = Path(\"../storage/leap/output\")\n",
    "DATA_DIR = Path(\"../storage/leap/data\")\n",
    "TRAIN_DATA5_DIR = Path(\"../storage/leap/data/train_0005\")"
   ]
  },
  {
   "cell_type": "code",
   "execution_count": 3,
   "id": "474f39f6",
   "metadata": {},
   "outputs": [],
   "source": [
    "# =============================\n",
    "# settings\n",
    "# =============================\n",
    "fe = \"081\"\n",
    "fe_dir = OUTPUT_DIR / \"fe\" / f\"fe{fe}\"\n",
    "fe_dir.mkdir(parents=True, exist_ok=True)\n",
    "fe_save_dir = fe_dir / \"save\"\n",
    "fe_save_dir.mkdir(parents=True, exist_ok=True)"
   ]
  },
  {
   "cell_type": "code",
   "execution_count": 4,
   "id": "660619e9",
   "metadata": {},
   "outputs": [],
   "source": [
    "# =============================\n",
    "# columns\n",
    "# =============================\n",
    "state_t = [f'state_t_{i}' for i in range(60)]\n",
    "state_q0001 = [f'state_q0001_{i}' for i in range(60)]\n",
    "state_q0002 = [f'state_q0002_{i}' for i in range(60)]\n",
    "state_q0003 = [f'state_q0003_{i}' for i in range(60)]\n",
    "state_u = [f'state_u_{i}' for i in range(60)]\n",
    "state_v = [f'state_v_{i}' for i in range(60)]\n",
    "other = ['state_ps', 'pbuf_SOLIN', 'pbuf_LHFLX', 'pbuf_SHFLX',\n",
    "       'pbuf_TAUX', 'pbuf_TAUY', 'pbuf_COSZRS', 'cam_in_ALDIF', 'cam_in_ALDIR',\n",
    "       'cam_in_ASDIF', 'cam_in_ASDIR', 'cam_in_LWUP', 'cam_in_ICEFRAC',\n",
    "       'cam_in_LANDFRAC', 'cam_in_OCNFRAC', 'cam_in_SNOWHLAND']\n",
    "pbuf_ozone = [f'pbuf_ozone_{i}' for i in range(60)]\n",
    "pbuf_CH4 = [f'pbuf_CH4_{i}' for i in range(60)]\n",
    "pbuf_N2O = [f'pbuf_N2O_{i}' for i in range(60)]\n",
    "cols_list = [state_t,state_q0001,state_q0002,state_q0003,\n",
    "             state_u,state_v,pbuf_ozone,pbuf_CH4,pbuf_N2O,other]"
   ]
  },
  {
   "cell_type": "code",
   "execution_count": 5,
   "id": "d4eeef50",
   "metadata": {},
   "outputs": [],
   "source": [
    "# =============================\n",
    "# target\n",
    "# =============================\n",
    "ptend_t = [f'ptend_t_{i}' for i in range(60)]\n",
    "ptend_q0001 = [f'ptend_q0001_{i}' for i in range(60)]\n",
    "ptend_q0002 = [f'ptend_q0002_{i}' for i in range(60)]\n",
    "ptend_q0003 = [f'ptend_q0003_{i}' for i in range(60)]\n",
    "ptend_u = [f'ptend_u_{i}' for i in range(60)]\n",
    "ptend_v = [f'ptend_v_{i}' for i in range(60)]\n",
    "other_target= ['cam_out_NETSW', 'cam_out_FLWDS', 'cam_out_PRECSC', 'cam_out_PRECC', 'cam_out_SOLS', 'cam_out_SOLL', 'cam_out_SOLSD', 'cam_out_SOLLD']\n",
    "target_list = [ptend_t,ptend_q0001, ptend_q0002,ptend_q0003,ptend_u,ptend_v,other_target]"
   ]
  },
  {
   "cell_type": "code",
   "execution_count": 6,
   "id": "e4a798db",
   "metadata": {},
   "outputs": [
    {
     "name": "stderr",
     "output_type": "stream",
     "text": [
      "  0%|          | 0/12 [00:00<?, ?it/s]"
     ]
    },
    {
     "name": "stdout",
     "output_type": "stream",
     "text": [
      "1 857088\n"
     ]
    },
    {
     "name": "stderr",
     "output_type": "stream",
     "text": [
      "  8%|▊         | 1/12 [00:01<00:12,  1.11s/it]"
     ]
    },
    {
     "name": "stdout",
     "output_type": "stream",
     "text": [
      "2 774144\n"
     ]
    },
    {
     "name": "stderr",
     "output_type": "stream",
     "text": [
      " 17%|█▋        | 2/12 [00:02<00:11,  1.20s/it]"
     ]
    },
    {
     "name": "stdout",
     "output_type": "stream",
     "text": [
      "3 857088\n"
     ]
    },
    {
     "name": "stderr",
     "output_type": "stream",
     "text": [
      " 25%|██▌       | 3/12 [00:03<00:10,  1.22s/it]"
     ]
    },
    {
     "name": "stdout",
     "output_type": "stream",
     "text": [
      "4 829440\n"
     ]
    },
    {
     "name": "stderr",
     "output_type": "stream",
     "text": [
      " 33%|███▎      | 4/12 [00:04<00:09,  1.20s/it]"
     ]
    },
    {
     "name": "stdout",
     "output_type": "stream",
     "text": [
      "5 857088\n"
     ]
    },
    {
     "name": "stderr",
     "output_type": "stream",
     "text": [
      " 42%|████▏     | 5/12 [00:05<00:08,  1.20s/it]"
     ]
    },
    {
     "name": "stdout",
     "output_type": "stream",
     "text": [
      "6 829440\n"
     ]
    },
    {
     "name": "stderr",
     "output_type": "stream",
     "text": [
      " 50%|█████     | 6/12 [00:07<00:07,  1.17s/it]"
     ]
    },
    {
     "name": "stdout",
     "output_type": "stream",
     "text": [
      "7 857088\n"
     ]
    },
    {
     "name": "stderr",
     "output_type": "stream",
     "text": [
      " 58%|█████▊    | 7/12 [00:08<00:05,  1.17s/it]"
     ]
    },
    {
     "name": "stdout",
     "output_type": "stream",
     "text": [
      "8 857088\n"
     ]
    },
    {
     "name": "stderr",
     "output_type": "stream",
     "text": [
      " 67%|██████▋   | 8/12 [00:09<00:04,  1.16s/it]"
     ]
    },
    {
     "name": "stdout",
     "output_type": "stream",
     "text": [
      "9 829440\n"
     ]
    },
    {
     "name": "stderr",
     "output_type": "stream",
     "text": [
      " 75%|███████▌  | 9/12 [00:10<00:03,  1.14s/it]"
     ]
    },
    {
     "name": "stdout",
     "output_type": "stream",
     "text": [
      "10 857088\n"
     ]
    },
    {
     "name": "stderr",
     "output_type": "stream",
     "text": [
      " 83%|████████▎ | 10/12 [00:11<00:02,  1.15s/it]"
     ]
    },
    {
     "name": "stdout",
     "output_type": "stream",
     "text": [
      "11 829440\n"
     ]
    },
    {
     "name": "stderr",
     "output_type": "stream",
     "text": [
      " 92%|█████████▏| 11/12 [00:12<00:01,  1.14s/it]"
     ]
    },
    {
     "name": "stdout",
     "output_type": "stream",
     "text": [
      "12 857088\n"
     ]
    },
    {
     "name": "stderr",
     "output_type": "stream",
     "text": [
      "100%|██████████| 12/12 [00:13<00:00,  1.16s/it]\n"
     ]
    }
   ],
   "source": [
    "# =============================\n",
    "# main\n",
    "# =============================\n",
    "# 2分の1に間引く\n",
    "df_all = []\n",
    "for i in tqdm(range(1, 13)):\n",
    "    df = pl.read_parquet(f\"{TRAIN_DATA5_DIR}/train_0005_{i}.parquet\")\n",
    "    print(i, df.shape[0])\n",
    "    df = df.with_columns(pl.Series(\"group\", np.arange(len(df))))\n",
    "    df = df.with_columns((pl.col(\"group\") // 384).alias(\"group\"))\n",
    "    df = df.with_columns((pl.col(\"group\") % 2).alias(\"group\"))\n",
    "    df = df.filter(pl.col(\"group\") == 0).drop(\"group\")\n",
    "    df_all.append(df)"
   ]
  },
  {
   "cell_type": "code",
   "execution_count": 8,
   "id": "4401c20e",
   "metadata": {},
   "outputs": [],
   "source": [
    "df_all = pl.concat(df_all)"
   ]
  },
  {
   "cell_type": "code",
   "execution_count": 9,
   "id": "88967cac",
   "metadata": {},
   "outputs": [
    {
     "name": "stdout",
     "output_type": "stream",
     "text": [
      "(5045760, 925)\n"
     ]
    }
   ],
   "source": [
    "print(df_all.shape)"
   ]
  },
  {
   "cell_type": "code",
   "execution_count": 10,
   "id": "28ca571d",
   "metadata": {},
   "outputs": [],
   "source": [
    "df_all.write_parquet(fe_dir / \"train_0005_all_2_concat.parquet\")"
   ]
  },
  {
   "cell_type": "code",
   "execution_count": null,
   "id": "e97cd3d5",
   "metadata": {},
   "outputs": [],
   "source": []
  }
 ],
 "metadata": {
  "kernelspec": {
   "display_name": "Python 3 (ipykernel)",
   "language": "python",
   "name": "python3"
  },
  "language_info": {
   "codemirror_mode": {
    "name": "ipython",
    "version": 3
   },
   "file_extension": ".py",
   "mimetype": "text/x-python",
   "name": "python",
   "nbconvert_exporter": "python",
   "pygments_lexer": "ipython3",
   "version": "3.10.12"
  }
 },
 "nbformat": 4,
 "nbformat_minor": 5
}

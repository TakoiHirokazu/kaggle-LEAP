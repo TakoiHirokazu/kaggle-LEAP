{
 "cells": [
  {
   "cell_type": "code",
   "execution_count": 1,
   "id": "39aaae58",
   "metadata": {},
   "outputs": [
    {
     "name": "stderr",
     "output_type": "stream",
     "text": [
      "/usr/local/lib/python3.10/dist-packages/tqdm/auto.py:21: TqdmWarning: IProgress not found. Please update jupyter and ipywidgets. See https://ipywidgets.readthedocs.io/en/stable/user_install.html\n",
      "  from .autonotebook import tqdm as notebook_tqdm\n"
     ]
    }
   ],
   "source": [
    "# =============================\n",
    "# library\n",
    "# =============================\n",
    "import pandas as pd\n",
    "import numpy as np\n",
    "from pathlib import Path\n",
    "import matplotlib.pyplot as plt\n",
    "import polars as pl\n",
    "from tqdm import tqdm\n",
    "import cupy as cp\n",
    "import pickle"
   ]
  },
  {
   "cell_type": "code",
   "execution_count": 2,
   "id": "19ccd881",
   "metadata": {},
   "outputs": [],
   "source": [
    "# =============================\n",
    "# constant\n",
    "# =============================\n",
    "TEST_PATH = Path(\"../storage/leap/data/test.csv\")\n",
    "OUTPUT_DIR = Path(\"../storage/leap/output\")\n",
    "DATA_DIR = Path(\"../storage/leap/data\")"
   ]
  },
  {
   "cell_type": "code",
   "execution_count": 3,
   "id": "aa76153c",
   "metadata": {},
   "outputs": [],
   "source": [
    "# =============================\n",
    "# settings\n",
    "# =============================\n",
    "fe = \"163\"\n",
    "fe_dir = OUTPUT_DIR / \"fe\" / f\"fe{fe}\"\n",
    "fe_dir.mkdir(parents=True, exist_ok=True)\n",
    "fe_save_dir = fe_dir / \"save\"\n",
    "fe_save_dir.mkdir(parents=True, exist_ok=True)"
   ]
  },
  {
   "cell_type": "code",
   "execution_count": 4,
   "id": "564ae485",
   "metadata": {},
   "outputs": [],
   "source": [
    "# =====================\n",
    "# Data\n",
    "# =====================\n",
    "data_fe = \"160\"\n",
    "data_dir = OUTPUT_DIR / \"fe\" / f\"fe{data_fe}\"\n",
    "\n",
    "data_diff_fe = \"161\"\n",
    "data_diff_dir = OUTPUT_DIR / \"fe\" / f\"fe{data_diff_fe}\"\n",
    "\n",
    "data_add_fe = \"162\"\n",
    "data_add_dir = OUTPUT_DIR / \"fe\" / f\"fe{data_add_fe}\"\n"
   ]
  },
  {
   "cell_type": "code",
   "execution_count": 5,
   "id": "f548765b",
   "metadata": {},
   "outputs": [],
   "source": [
    "# feature\n",
    "# feature\n",
    "seq_list = [\n",
    "    data_dir / f\"fe{data_fe}_state_t.npy\",\n",
    "    data_dir / f\"fe{data_fe}_state_q0001.npy\",\n",
    "    data_dir / f\"fe{data_fe}_state_q0002.npy\",\n",
    "    data_dir / f\"fe{data_fe}_state_q0003.npy\",\n",
    "    data_dir / f\"fe{data_fe}_state_u.npy\",\n",
    "    data_dir / f\"fe{data_fe}_state_v.npy\",\n",
    "    data_dir / f\"fe{data_fe}_pbuf_ozone.npy\",\n",
    "    data_dir / f\"fe{data_fe}_pbuf_CH4.npy\",\n",
    "    data_dir / f\"fe{data_fe}_pbuf_N2O.npy\"\n",
    "]\n",
    "\n",
    "\n",
    "seq_diff_list = [\n",
    "    data_diff_dir / f\"fe{data_diff_fe}_state_t_diff.npy\",\n",
    "    data_diff_dir / f\"fe{data_diff_fe}_state_q0001_diff.npy\",\n",
    "    data_diff_dir / f\"fe{data_diff_fe}_state_q0002_diff.npy\",\n",
    "    data_diff_dir / f\"fe{data_diff_fe}_state_q0003_diff.npy\",\n",
    "    data_diff_dir / f\"fe{data_diff_fe}_state_u_diff.npy\",\n",
    "    data_diff_dir / f\"fe{data_diff_fe}_state_v_diff.npy\",\n",
    "    data_diff_dir / f\"fe{data_diff_fe}_pbuf_ozone_diff.npy\",\n",
    "    data_diff_dir / f\"fe{data_diff_fe}_pbuf_CH4_diff.npy\",\n",
    "    data_diff_dir / f\"fe{data_diff_fe}_pbuf_N2O_diff.npy\"\n",
    "]\n",
    "\n",
    "seq_list += seq_diff_list\n",
    "\n",
    "\n",
    "other_path = data_dir / f\"fe{data_fe}_other.npy\"\n",
    "\n",
    "add_path = data_add_dir / f\"fe{data_add_fe}_state_sum.npy\"\n",
    "\n",
    "# target\n",
    "target_list = [\n",
    "    data_dir / f\"fe{data_fe}_ptend_t_target.npy\",\n",
    "    data_dir / f\"fe{data_fe}_ptend_q0001_target.npy\",\n",
    "    data_dir / f\"fe{data_fe}_ptend_q0002_target.npy\",\n",
    "    data_dir / f\"fe{data_fe}_ptend_q0003_target.npy\",\n",
    "    data_dir / f\"fe{data_fe}_ptend_u_target.npy\",\n",
    "    data_dir / f\"fe{data_fe}_ptend_v_target.npy\",\n",
    "]\n",
    "other_target_path = data_dir / f\"fe{data_fe}_other_target.npy\""
   ]
  },
  {
   "cell_type": "code",
   "execution_count": 6,
   "id": "0aec730a",
   "metadata": {},
   "outputs": [
    {
     "name": "stderr",
     "output_type": "stream",
     "text": [
      "100%|██████████| 18/18 [02:22<00:00,  7.91s/it]\n",
      "100%|██████████| 6/6 [00:17<00:00,  2.87s/it]\n"
     ]
    }
   ],
   "source": [
    "# =====================\n",
    "# Main\n",
    "# =====================\n",
    "\n",
    "# seq\n",
    "seq_feature = []\n",
    "for p in tqdm(seq_list):\n",
    "    tmp = np.load(p)\n",
    "    tmp = tmp.reshape([-1, 60, 1])\n",
    "    seq_feature.append(tmp)\n",
    "\n",
    "seq_feature = np.concatenate(seq_feature, axis=2)\n",
    "other_feature = np.load(other_path)\n",
    "add_feature = np.load(add_path)\n",
    "\n",
    "other_feature = np.concatenate(\n",
    "    [other_feature, add_feature.reshape(-1, 1)], axis=1)\n",
    "del add_feature\n",
    "\n",
    "\n",
    "target_seq = []\n",
    "for p in tqdm(target_list):\n",
    "    tmp = np.load(p).astype(np.float32)\n",
    "    tmp = tmp.reshape([-1, 60, 1])\n",
    "    target_seq.append(tmp)\n",
    "target_seq = np.concatenate(target_seq, axis=2)\n",
    "other_target = np.load(other_target_path).astype(np.float32)"
   ]
  },
  {
   "cell_type": "code",
   "execution_count": 7,
   "id": "b833291d",
   "metadata": {},
   "outputs": [],
   "source": [
    "batch = int(len(seq_feature) / 384)"
   ]
  },
  {
   "cell_type": "code",
   "execution_count": 8,
   "id": "45bf67b6",
   "metadata": {},
   "outputs": [
    {
     "name": "stderr",
     "output_type": "stream",
     "text": [
      "100%|██████████| 26280/26280 [12:15<00:00, 35.72it/s]\n"
     ]
    }
   ],
   "source": [
    "data_list = []\n",
    "for i in tqdm(range(batch)):\n",
    "    np.save(fe_dir / f\"fe{fe}_{i}_seq_feature.npy\",seq_feature[i * 384 : (i + 1)*384])\n",
    "    np.save(fe_dir / f\"fe{fe}_{i}_other_feature.npy\",other_feature[i * 384 : (i + 1)*384])\n",
    "    np.save(fe_dir / f\"fe{fe}_{i}_seq_target.npy\",target_seq[i * 384 : (i + 1)*384])\n",
    "    np.save(fe_dir / f\"fe{fe}_{i}_other_target.npy\",other_target[i * 384 : (i + 1)*384])\n",
    "    data_list.append(str(fe_dir / f\"fe{fe}_{i}\"))"
   ]
  },
  {
   "cell_type": "code",
   "execution_count": 9,
   "id": "4ce93525",
   "metadata": {},
   "outputs": [],
   "source": [
    "data = pd.DataFrame()\n",
    "data[\"data_path\"] = data_list"
   ]
  },
  {
   "cell_type": "code",
   "execution_count": 10,
   "id": "220a27b3",
   "metadata": {},
   "outputs": [],
   "source": [
    "data.to_parquet(fe_dir / f\"fe{fe}_data_list.parquet\")"
   ]
  },
  {
   "cell_type": "code",
   "execution_count": 11,
   "id": "014e32c5",
   "metadata": {},
   "outputs": [
    {
     "data": {
      "text/html": [
       "<div>\n",
       "<style scoped>\n",
       "    .dataframe tbody tr th:only-of-type {\n",
       "        vertical-align: middle;\n",
       "    }\n",
       "\n",
       "    .dataframe tbody tr th {\n",
       "        vertical-align: top;\n",
       "    }\n",
       "\n",
       "    .dataframe thead th {\n",
       "        text-align: right;\n",
       "    }\n",
       "</style>\n",
       "<table border=\"1\" class=\"dataframe\">\n",
       "  <thead>\n",
       "    <tr style=\"text-align: right;\">\n",
       "      <th></th>\n",
       "      <th>data_path</th>\n",
       "    </tr>\n",
       "  </thead>\n",
       "  <tbody>\n",
       "    <tr>\n",
       "      <th>0</th>\n",
       "      <td>../storage/leap/output/fe/fe163/fe163_0</td>\n",
       "    </tr>\n",
       "    <tr>\n",
       "      <th>1</th>\n",
       "      <td>../storage/leap/output/fe/fe163/fe163_1</td>\n",
       "    </tr>\n",
       "    <tr>\n",
       "      <th>2</th>\n",
       "      <td>../storage/leap/output/fe/fe163/fe163_2</td>\n",
       "    </tr>\n",
       "    <tr>\n",
       "      <th>3</th>\n",
       "      <td>../storage/leap/output/fe/fe163/fe163_3</td>\n",
       "    </tr>\n",
       "    <tr>\n",
       "      <th>4</th>\n",
       "      <td>../storage/leap/output/fe/fe163/fe163_4</td>\n",
       "    </tr>\n",
       "    <tr>\n",
       "      <th>...</th>\n",
       "      <td>...</td>\n",
       "    </tr>\n",
       "    <tr>\n",
       "      <th>26275</th>\n",
       "      <td>../storage/leap/output/fe/fe163/fe163_26275</td>\n",
       "    </tr>\n",
       "    <tr>\n",
       "      <th>26276</th>\n",
       "      <td>../storage/leap/output/fe/fe163/fe163_26276</td>\n",
       "    </tr>\n",
       "    <tr>\n",
       "      <th>26277</th>\n",
       "      <td>../storage/leap/output/fe/fe163/fe163_26277</td>\n",
       "    </tr>\n",
       "    <tr>\n",
       "      <th>26278</th>\n",
       "      <td>../storage/leap/output/fe/fe163/fe163_26278</td>\n",
       "    </tr>\n",
       "    <tr>\n",
       "      <th>26279</th>\n",
       "      <td>../storage/leap/output/fe/fe163/fe163_26279</td>\n",
       "    </tr>\n",
       "  </tbody>\n",
       "</table>\n",
       "<p>26280 rows × 1 columns</p>\n",
       "</div>"
      ],
      "text/plain": [
       "                                         data_path\n",
       "0          ../storage/leap/output/fe/fe163/fe163_0\n",
       "1          ../storage/leap/output/fe/fe163/fe163_1\n",
       "2          ../storage/leap/output/fe/fe163/fe163_2\n",
       "3          ../storage/leap/output/fe/fe163/fe163_3\n",
       "4          ../storage/leap/output/fe/fe163/fe163_4\n",
       "...                                            ...\n",
       "26275  ../storage/leap/output/fe/fe163/fe163_26275\n",
       "26276  ../storage/leap/output/fe/fe163/fe163_26276\n",
       "26277  ../storage/leap/output/fe/fe163/fe163_26277\n",
       "26278  ../storage/leap/output/fe/fe163/fe163_26278\n",
       "26279  ../storage/leap/output/fe/fe163/fe163_26279\n",
       "\n",
       "[26280 rows x 1 columns]"
      ]
     },
     "execution_count": 11,
     "metadata": {},
     "output_type": "execute_result"
    }
   ],
   "source": [
    "data"
   ]
  },
  {
   "cell_type": "code",
   "execution_count": null,
   "id": "10b52048",
   "metadata": {},
   "outputs": [],
   "source": []
  },
  {
   "cell_type": "code",
   "execution_count": null,
   "id": "5d69e366",
   "metadata": {},
   "outputs": [],
   "source": []
  }
 ],
 "metadata": {
  "kernelspec": {
   "display_name": "Python 3 (ipykernel)",
   "language": "python",
   "name": "python3"
  },
  "language_info": {
   "codemirror_mode": {
    "name": "ipython",
    "version": 3
   },
   "file_extension": ".py",
   "mimetype": "text/x-python",
   "name": "python",
   "nbconvert_exporter": "python",
   "pygments_lexer": "ipython3",
   "version": "3.10.12"
  }
 },
 "nbformat": 4,
 "nbformat_minor": 5
}

{
 "cells": [
  {
   "cell_type": "code",
   "execution_count": 1,
   "id": "334d7db0",
   "metadata": {},
   "outputs": [],
   "source": [
    "# =============================\n",
    "# library\n",
    "# =============================\n",
    "import pandas as pd\n",
    "import numpy as np\n",
    "from pathlib import Path\n",
    "import matplotlib.pyplot as plt\n",
    "import polars as pl\n",
    "from tqdm import tqdm\n",
    "import pickle"
   ]
  },
  {
   "cell_type": "code",
   "execution_count": 2,
   "id": "09e0c021",
   "metadata": {},
   "outputs": [],
   "source": [
    "# =============================\n",
    "# constant\n",
    "# =============================\n",
    "TRAIN_PATH = Path(\"../storage/leap/data/train.csv\")\n",
    "TEST_PATH = Path(\"../storage/leap/data/test.csv\")\n",
    "OUTPUT_DIR = Path(\"../storage/leap/output\")\n",
    "DATA_DIR = Path(\"../storage/leap/data\")"
   ]
  },
  {
   "cell_type": "code",
   "execution_count": 3,
   "id": "ed9b49da",
   "metadata": {},
   "outputs": [],
   "source": [
    "# =============================\n",
    "# settings\n",
    "# =============================\n",
    "fe = \"171\"\n",
    "fe_dir = OUTPUT_DIR / \"fe\" / f\"fe{fe}\"\n",
    "fe_dir.mkdir(parents=True, exist_ok=True)\n",
    "fe_save_dir = fe_dir / \"save\"\n",
    "fe_save_dir.mkdir(parents=True, exist_ok=True)\n",
    "\n",
    "TRAIN_PATH1 = Path(\"../storage/leap/output/fe/fe168/fe168_train.parquet\")\n",
    "train_state_sum_sc_path = OUTPUT_DIR / \"fe\" / \"fe103\" / \"fe103_state_sum_mean_std.pkl\""
   ]
  },
  {
   "cell_type": "code",
   "execution_count": 4,
   "id": "abe21062",
   "metadata": {},
   "outputs": [],
   "source": [
    "# =============================\n",
    "# columns\n",
    "# =============================\n",
    "state_t = [f'state_t_{i}' for i in range(60)]\n",
    "state_q0001 = [f'state_q0001_{i}' for i in range(60)]\n",
    "state_q0002 = [f'state_q0002_{i}' for i in range(60)]\n",
    "state_q0003 = [f'state_q0003_{i}' for i in range(60)]\n",
    "state_u = [f'state_u_{i}' for i in range(60)]\n",
    "state_v = [f'state_v_{i}' for i in range(60)]\n",
    "other = ['state_ps', 'pbuf_SOLIN', 'pbuf_LHFLX', 'pbuf_SHFLX',\n",
    "       'pbuf_TAUX', 'pbuf_TAUY', 'pbuf_COSZRS', 'cam_in_ALDIF', 'cam_in_ALDIR',\n",
    "       'cam_in_ASDIF', 'cam_in_ASDIR', 'cam_in_LWUP', 'cam_in_ICEFRAC',\n",
    "       'cam_in_LANDFRAC', 'cam_in_OCNFRAC', 'cam_in_SNOWHLAND']\n",
    "pbuf_ozone = [f'pbuf_ozone_{i}' for i in range(60)]\n",
    "pbuf_CH4 = [f'pbuf_CH4_{i}' for i in range(60)]\n",
    "pbuf_N2O = [f'pbuf_N2O_{i}' for i in range(60)]\n",
    "cols_list = [state_t,state_q0001,state_q0002,state_q0003,\n",
    "             state_u,state_v,pbuf_ozone,pbuf_CH4,pbuf_N2O,other]"
   ]
  },
  {
   "cell_type": "code",
   "execution_count": 5,
   "id": "0a5b658b",
   "metadata": {},
   "outputs": [],
   "source": [
    "# =============================\n",
    "# main\n",
    "# =============================\n",
    "df = pl.read_parquet(TRAIN_PATH1)"
   ]
  },
  {
   "cell_type": "code",
   "execution_count": 6,
   "id": "b0407722",
   "metadata": {},
   "outputs": [],
   "source": [
    "with open(train_state_sum_sc_path  , 'rb') as f:\n",
    "    train_state_sum_sc = pickle.load(f) "
   ]
  },
  {
   "cell_type": "code",
   "execution_count": 7,
   "id": "a0dd6d82",
   "metadata": {},
   "outputs": [
    {
     "data": {
      "text/plain": [
       "[0.15396270641007057, 0.09299993990987514]"
      ]
     },
     "execution_count": 7,
     "metadata": {},
     "output_type": "execute_result"
    }
   ],
   "source": [
    "train_state_sum_sc"
   ]
  },
  {
   "cell_type": "code",
   "execution_count": 8,
   "id": "e80c91f7",
   "metadata": {},
   "outputs": [],
   "source": [
    "sum_cols = state_q0001 + state_q0002 + state_q0003\n",
    "df_ = df[sum_cols].to_numpy()\n",
    "num_sum = np.sum(df_,axis=1)"
   ]
  },
  {
   "cell_type": "code",
   "execution_count": 9,
   "id": "70aa63ab",
   "metadata": {},
   "outputs": [],
   "source": [
    "num_sum = (num_sum - train_state_sum_sc[0]) / train_state_sum_sc[1]"
   ]
  },
  {
   "cell_type": "code",
   "execution_count": 10,
   "id": "21ad633f",
   "metadata": {},
   "outputs": [],
   "source": [
    "np.save(fe_dir / f\"fe{fe}_state_sum.npy\",num_sum)"
   ]
  },
  {
   "cell_type": "code",
   "execution_count": null,
   "id": "844e00c6",
   "metadata": {},
   "outputs": [],
   "source": []
  }
 ],
 "metadata": {
  "kernelspec": {
   "display_name": "Python 3 (ipykernel)",
   "language": "python",
   "name": "python3"
  },
  "language_info": {
   "codemirror_mode": {
    "name": "ipython",
    "version": 3
   },
   "file_extension": ".py",
   "mimetype": "text/x-python",
   "name": "python",
   "nbconvert_exporter": "python",
   "pygments_lexer": "ipython3",
   "version": "3.10.12"
  }
 },
 "nbformat": 4,
 "nbformat_minor": 5
}
